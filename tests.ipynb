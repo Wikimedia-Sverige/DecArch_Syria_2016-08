{
 "cells": [
  {
   "cell_type": "code",
   "execution_count": 4,
   "metadata": {
    "collapsed": true
   },
   "outputs": [],
   "source": [
    "import regex, os"
   ]
  },
  {
   "cell_type": "code",
   "execution_count": 104,
   "metadata": {
    "collapsed": true
   },
   "outputs": [],
   "source": [
    "f1 = \"37) Alfa 31. Bis.jpg\" #folder 1\n",
    "f2 = \"38) Palmira. T. di Bel, temenos. 20 marzo '93. Bis.jpg\" #folder 1\n",
    "f3 = \"149 Apamea. Alfa 31. Bis.jpg\" # folder 2\n",
    "f4 = \"138 Apamea. 20 marzo '93 Bis.jpg\"# folder 2\n",
    "f5 = \"148 Santuario San Simeone. Chiesa esterna. 20 marzo '93. Bis.jpg\" # folder 2\n",
    "f6 = \"183 Apamea. Antiquarium. 20 marzo '93. Bis..jpg\"\n",
    "f7 = \"170 San Simeone. Nartece della facciata.20 marzo '93. Bis.jpg\"\n",
    "\n",
    "fold1 = \"1_SIRIA - Palmira\"\n",
    "fold2 = \"2_SIRIA - Damasco e Bosra e Apamea e S. Simeone e Sergiopolis e Aleppo\"\n",
    "fold3 = \"3_SIRIA - Zenobia e Dura Europos e Mari\"\n",
    "foldernames = [fold1, fold2, fold3]\n",
    "\n",
    "foldfnames = [(fold1, f1),(fold1,f2),(fold2, f3),(fold2, f4), (fold2, f5), (fold2, f6), (fold2, f7)]"
   ]
  },
  {
   "cell_type": "code",
   "execution_count": 144,
   "metadata": {
    "collapsed": false
   },
   "outputs": [],
   "source": [
    "def create_filename(fold, fobj):\n",
    "    import os\n",
    "    \"\"\"Takes a DataFrame row from the 'merged' dataframe and returns a string filename.\"\"\"\n",
    "    # remove all underscores\n",
    "    no_underscores = regex.sub(r\"_\", \" \", fobj)\n",
    "    \n",
    "    # <Filename0>, dummy, <Filename1> = <Filename>.partition(\" \") \n",
    "    filename0, dummy, filename1 = no_underscores.partition(\" \")\n",
    "    #print(\"filename0: {}\\n dummy: {}\\n filename1: {}\\n\".format(filename0, dummy, filename1))\n",
    "    \n",
    "    # Grab the extension for later use\n",
    "    ext = regex.findall(r\"\\.\\w+\",filename1)[-1]\n",
    "    #print(ext)\n",
    "    \n",
    "    # <Filename_1_clean> = <Filename1> with \"20 marzo...\" removed, any dubble spaces replaced by single ones \n",
    "    # and finally the spaces substituted by underscores (_). \n",
    "    yeardate_patt = regex.compile(r\"[\\. ]?\\d+[o']? m? ?arz[o0p] ?'?\\d+[\\. ]?\",flags=regex.I)\n",
    "    year_patt = regex.compile(r\" '\\d\\d[\\.,]? \",flags=regex.I)\n",
    "    date_patt = regex.compile(r\"20 marzo\", flags=regex.I)\n",
    "    \n",
    "    yeardate_match = yeardate_patt.search(filename1)\n",
    "    year_match = year_patt.search(filename1)\n",
    "    date_match = date_patt.search(filename1)\n",
    "    \n",
    "    print(\"filename1: {}\".format(filename1))\n",
    "        \n",
    "    if yeardate_match:\n",
    "        filename_1_clean = regex.sub(yeardate_patt, \" \",filename1)\n",
    "        print(\"yeardate_match. filename_1_clean is:\\n {:<30}\".format(filename_1_clean))\n",
    "        \n",
    "    elif year_match and not yeardate_match:\n",
    "        filename_1_clean = regex.sub(year_patt, \" \",filename1)\n",
    "        print(\"year_match and not yeardate_match. filename_1_clean is:\\n {:<30}\".format(filename_1_clean))\n",
    "        \n",
    "    #elif date_match and not yeardate_match:\n",
    "    #    print(\"date_match: {} in filename1: {}\".format(date_match,filename1))\n",
    "    \n",
    "    else:\n",
    "        filename_1_clean = filename1\n",
    "        print(\"no year_match or yeardate_match. filename_1_clean is:\\n {:<30}\".format(filename_1_clean))\n",
    "    \n",
    "    # Remove the extension from filename_1_clean\n",
    "    fname, extension = os.path.splitext(filename_1_clean)\n",
    "    \n",
    "    filename_1_clean = fname\n",
    "    #print(filename_1_clean)\n",
    "    \n",
    "    \n",
    "    # Remove all 'Bis' from end of filename_1_clean\n",
    "    filename_1_clean = regex.sub(r\"Bis\", \"\", filename_1_clean, flags=regex.I)\n",
    "    print(\"filename_1_clean: {}\".format(filename_1_clean))\n",
    "    \n",
    "    # Remove all leading and trailing whitespace from end of filename_1_clean\n",
    "    # Ensure no double spaces left\n",
    "    filename_1_clean = filename_1_clean.strip(\". \").replace(\" \", \"_\").replace(\"__\", \"_\")\n",
    "    #print(repr(filename_1_clean))\n",
    "    \n",
    "    # <Filename_0_clean> = <Filename0> with any trailing brackets ()) removed.\n",
    "    filename_0_clean = regex.sub(r\"\\).?\",\"\",filename0)\n",
    "    #print(filename_0_clean)\n",
    "        \n",
    "    # <Folder_#>, dummy, dummy = <Folder>.partition(\"_\")\n",
    "    folder_no, dummy, dummy  = fold.partition(\"_\")\n",
    "    #print(\"Folder number is: {}\".format(folder_no))\n",
    "    \n",
    "    ################## Final piecing together of filename ####################################\n",
    "    #Filename: <Filename_1_clean>_-_DecArch_-_<Folder_no>-<Filename_0_clean>.<ext>\n",
    "    #Filename example:\n",
    "    #So for 49) Palmira. Via colonnata presso il teatro. 20 marzo '93. Bis.jpg end result is\n",
    "    #Palmira._Via_colonnata_presso_il_teatro._-_DecArch_-1-49.jpg\n",
    "    #Palmira._Via_colonnata_presso_il_teatro._-_DecArch_-1-49.jpg\n",
    "    filename = filename_1_clean + \"_-_DecArch_-_\" + folder_no + \"-\" + filename_0_clean\n",
    "    print(\"filename: {}\\n\".format(filename))\n",
    "    \n",
    "    # Ensure no multiple spaces left\n",
    "    #filename = regex.sub(r\" +\",\" \", filename)\n",
    "    #print(\"filename is: {}\".format(filename))\n",
    "    \n",
    "    return filename"
   ]
  },
  {
   "cell_type": "code",
   "execution_count": 145,
   "metadata": {
    "collapsed": false
   },
   "outputs": [
    {
     "name": "stdout",
     "output_type": "stream",
     "text": [
      "filename1: Alfa 31. Bis.jpg\n",
      "no year_match or yeardate_match. filename_1_clean is:\n",
      " Alfa 31. Bis.jpg              \n",
      "filename_1_clean: Alfa 31. \n",
      "filename: Alfa_31_-_DecArch_-_1-37\n",
      "\n",
      "filename1: Palmira. T. di Bel, temenos. 20 marzo '93. Bis.jpg\n",
      "yeardate_match. filename_1_clean is:\n",
      " Palmira. T. di Bel, temenos.  Bis.jpg\n",
      "filename_1_clean: Palmira. T. di Bel, temenos.  \n",
      "filename: Palmira._T._di_Bel,_temenos_-_DecArch_-_1-38\n",
      "\n",
      "filename1: Apamea. Alfa 31. Bis.jpg\n",
      "no year_match or yeardate_match. filename_1_clean is:\n",
      " Apamea. Alfa 31. Bis.jpg      \n",
      "filename_1_clean: Apamea. Alfa 31. \n",
      "filename: Apamea._Alfa_31_-_DecArch_-_2-149\n",
      "\n",
      "filename1: Apamea. 20 marzo '93 Bis.jpg\n",
      "yeardate_match. filename_1_clean is:\n",
      " Apamea. Bis.jpg               \n",
      "filename_1_clean: Apamea. \n",
      "filename: Apamea_-_DecArch_-_2-138\n",
      "\n",
      "filename1: Santuario San Simeone. Chiesa esterna. 20 marzo '93. Bis.jpg\n",
      "yeardate_match. filename_1_clean is:\n",
      " Santuario San Simeone. Chiesa esterna.  Bis.jpg\n",
      "filename_1_clean: Santuario San Simeone. Chiesa esterna.  \n",
      "filename: Santuario_San_Simeone._Chiesa_esterna_-_DecArch_-_2-148\n",
      "\n",
      "filename1: Apamea. Antiquarium. 20 marzo '93. Bis..jpg\n",
      "yeardate_match. filename_1_clean is:\n",
      " Apamea. Antiquarium.  Bis..jpg\n",
      "filename_1_clean: Apamea. Antiquarium.  .\n",
      "filename: Apamea._Antiquarium_-_DecArch_-_2-183\n",
      "\n",
      "filename1: San Simeone. Nartece della facciata.20 marzo '93. Bis.jpg\n",
      "yeardate_match. filename_1_clean is:\n",
      " San Simeone. Nartece della facciata  Bis.jpg\n",
      "filename_1_clean: San Simeone. Nartece della facciata  \n",
      "filename: San_Simeone._Nartece_della_facciata_-_DecArch_-_2-170\n",
      "\n"
     ]
    }
   ],
   "source": [
    "for fold, fobj in foldfnames:\n",
    "    create_filename(fold, fobj)"
   ]
  },
  {
   "cell_type": "code",
   "execution_count": 139,
   "metadata": {
    "collapsed": false
   },
   "outputs": [
    {
     "data": {
      "text/plain": [
       "False"
      ]
     },
     "execution_count": 139,
     "metadata": {},
     "output_type": "execute_result"
    }
   ],
   "source": [
    "f7 = \"170 San Simeone. Nartece della facciata.20 marzo '93. Bis.jpg\"\n",
    "date_patt = regex.compile(r\"20 marzo\", flags=regex.I)\n",
    "\n",
    "date_match = date_patt.search(f7)\n",
    "date_match is True"
   ]
  },
  {
   "cell_type": "code",
   "execution_count": null,
   "metadata": {
    "collapsed": true
   },
   "outputs": [],
   "source": []
  }
 ],
 "metadata": {
  "kernelspec": {
   "display_name": "Python 3",
   "language": "python",
   "name": "python3"
  },
  "language_info": {
   "codemirror_mode": {
    "name": "ipython",
    "version": 3
   },
   "file_extension": ".py",
   "mimetype": "text/x-python",
   "name": "python",
   "nbconvert_exporter": "python",
   "pygments_lexer": "ipython3",
   "version": "3.5.2"
  }
 },
 "nbformat": 4,
 "nbformat_minor": 0
}
