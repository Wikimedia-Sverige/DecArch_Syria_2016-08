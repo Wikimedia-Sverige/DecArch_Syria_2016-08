{
 "cells": [
  {
   "cell_type": "code",
   "execution_count": null,
   "metadata": {
    "collapsed": false,
    "hide_input": false,
    "nbpresent": {
     "id": "a97ff06c-9f13-4e09-9906-5c427bbf9ed9"
    },
    "slideshow": {
     "slide_type": "skip"
    }
   },
   "outputs": [],
   "source": [
    "!pip install regex # A sligthly better version of RE\n",
    "!pip install html5lib # For Pandas read_html used to parse mapping wikitables \n",
    "!pip install pandas # A great library for data wrangling (and analysis)"
   ]
  },
  {
   "cell_type": "code",
   "execution_count": 1,
   "metadata": {
    "collapsed": false
   },
   "outputs": [],
   "source": [
    "import pandas as pd \n",
    "import numpy as np\n",
    "import regex\n",
    "import os "
   ]
  },
  {
   "cell_type": "markdown",
   "metadata": {
    "nbpresent": {
     "id": "8c4677f9-fc98-4410-a9d9-9e3fb02b696d"
    },
    "slideshow": {
     "slide_type": "slide"
    }
   },
   "source": [
    "# Metadata and mappings\n",
    "The template mapping can be found here:\n",
    "\n",
    "Phabricator task [T143212](https://phabricator.wikimedia.org/T143212)\n",
    "\n",
    "The original metadata is a Google Spreadsheet located here:\n",
    "\n",
    "https://docs.google.com/spreadsheets/d/1F43jhv_ekLfnjnvRxZjl5VmibFbRUQ2affrIkSck4WU/edit?usp=sharing\n",
    "\n",
    "The doc below is downloaded locally 2016-08-17 17:00"
   ]
  },
  {
   "cell_type": "code",
   "execution_count": 2,
   "metadata": {
    "collapsed": false,
    "nbpresent": {
     "id": "65a0dddd-8653-40dc-872f-eec1555ba29e"
    },
    "slideshow": {
     "slide_type": "subslide"
    }
   },
   "outputs": [],
   "source": [
    "def strip(text):\n",
    "    try:\n",
    "        return text.strip()\n",
    "    except AttributeError:\n",
    "        return text\n",
    "    \n",
    "it_converters = {\"Folder\":strip,\"Filename\":strip,\"Nome foto\":strip,\"Anno\":strip,\"Luogo\":strip,\"Nome monumento\":strip,\"Descrizione\":strip,\"Nome autore\":strip}\n",
    "metadata_it = pd.read_excel(\"./data/COH DechArch Metadata.xlsx\",sheetname=\"Italian\", converters=it_converters) # empty first row\n",
    "metadata_it.columns = [\"Folder\",\"Filename\",\"Nome foto\",\"Anno\",\"Luogo\",\"Nome monumento\",\"Descrizione\",\"Nome autore\"]\n",
    "\n",
    "en_converters = {\"Place\":strip,\"Monument name\":strip,\"Description\":strip} # Skip column \"Filename\" we don't parse\n",
    "metadata_en = pd.read_excel(\"./data/COH DechArch Metadata.xlsx\",sheetname=\"English\",\\\n",
    "                             converters=en_converters, parse_cols=[1,2,3,4],) # Skip column \"Filename\" --> 0"
   ]
  },
  {
   "cell_type": "code",
   "execution_count": 3,
   "metadata": {
    "collapsed": false,
    "nbpresent": {
     "id": "6c99fc00-d9a7-4d45-92a3-fd14877885ae"
    },
    "slideshow": {
     "slide_type": "subslide"
    }
   },
   "outputs": [
    {
     "data": {
      "text/html": [
       "<div>\n",
       "<table border=\"1\" class=\"dataframe\">\n",
       "  <thead>\n",
       "    <tr style=\"text-align: right;\">\n",
       "      <th></th>\n",
       "      <th>Folder</th>\n",
       "      <th>Filename</th>\n",
       "      <th>Nome foto</th>\n",
       "      <th>Anno</th>\n",
       "      <th>Luogo</th>\n",
       "      <th>Nome monumento</th>\n",
       "      <th>Descrizione</th>\n",
       "      <th>Nome autore</th>\n",
       "    </tr>\n",
       "  </thead>\n",
       "  <tbody>\n",
       "    <tr>\n",
       "      <th>533</th>\n",
       "      <td>3_SIRIA - Zenobia e Dura Europos e Mari</td>\n",
       "      <td>21 Zenobia. 20 marzo '93. Bis.jpg</td>\n",
       "      <td>Zenobia</td>\n",
       "      <td>1993</td>\n",
       "      <td>Zenobia</td>\n",
       "      <td>NaN</td>\n",
       "      <td>NaN</td>\n",
       "      <td>DecArch Marina Milella</td>\n",
       "    </tr>\n",
       "    <tr>\n",
       "      <th>534</th>\n",
       "      <td>3_SIRIA - Zenobia e Dura Europos e Mari</td>\n",
       "      <td>22 Zenobia-Halacve e zalabiye. 20 marzo '93. B...</td>\n",
       "      <td>Zenobia</td>\n",
       "      <td>1993</td>\n",
       "      <td>Zenobia</td>\n",
       "      <td>NaN</td>\n",
       "      <td>NaN</td>\n",
       "      <td>DecArch Marina Milella</td>\n",
       "    </tr>\n",
       "  </tbody>\n",
       "</table>\n",
       "</div>"
      ],
      "text/plain": [
       "                                      Folder  \\\n",
       "533  3_SIRIA - Zenobia e Dura Europos e Mari   \n",
       "534  3_SIRIA - Zenobia e Dura Europos e Mari   \n",
       "\n",
       "                                              Filename Nome foto  Anno  \\\n",
       "533                  21 Zenobia. 20 marzo '93. Bis.jpg   Zenobia  1993   \n",
       "534  22 Zenobia-Halacve e zalabiye. 20 marzo '93. B...   Zenobia  1993   \n",
       "\n",
       "       Luogo Nome monumento Descrizione             Nome autore  \n",
       "533  Zenobia            NaN         NaN  DecArch Marina Milella  \n",
       "534  Zenobia            NaN         NaN  DecArch Marina Milella  "
      ]
     },
     "execution_count": 3,
     "metadata": {},
     "output_type": "execute_result"
    }
   ],
   "source": [
    "metadata_it.tail(2)"
   ]
  },
  {
   "cell_type": "code",
   "execution_count": 4,
   "metadata": {
    "collapsed": false,
    "nbpresent": {
     "id": "d287d7d1-e53f-4b5b-8346-dcc13dfc144e"
    },
    "slideshow": {
     "slide_type": "subslide"
    }
   },
   "outputs": [
    {
     "data": {
      "text/html": [
       "<div>\n",
       "<table border=\"1\" class=\"dataframe\">\n",
       "  <thead>\n",
       "    <tr style=\"text-align: right;\">\n",
       "      <th></th>\n",
       "      <th>Place</th>\n",
       "      <th>Monument name</th>\n",
       "      <th>Description</th>\n",
       "      <th>Commons_category</th>\n",
       "    </tr>\n",
       "  </thead>\n",
       "  <tbody>\n",
       "    <tr>\n",
       "      <th>525</th>\n",
       "      <td>Zenobia</td>\n",
       "      <td>NaN</td>\n",
       "      <td>NaN</td>\n",
       "      <td>NaN</td>\n",
       "    </tr>\n",
       "    <tr>\n",
       "      <th>526</th>\n",
       "      <td>Zenobia</td>\n",
       "      <td>NaN</td>\n",
       "      <td>NaN</td>\n",
       "      <td>NaN</td>\n",
       "    </tr>\n",
       "    <tr>\n",
       "      <th>527</th>\n",
       "      <td>Zenobia</td>\n",
       "      <td>NaN</td>\n",
       "      <td>Panorama.</td>\n",
       "      <td>NaN</td>\n",
       "    </tr>\n",
       "    <tr>\n",
       "      <th>528</th>\n",
       "      <td>Zenobia</td>\n",
       "      <td>NaN</td>\n",
       "      <td>NaN</td>\n",
       "      <td>NaN</td>\n",
       "    </tr>\n",
       "    <tr>\n",
       "      <th>529</th>\n",
       "      <td>Zenobia</td>\n",
       "      <td>NaN</td>\n",
       "      <td>NaN</td>\n",
       "      <td>NaN</td>\n",
       "    </tr>\n",
       "    <tr>\n",
       "      <th>530</th>\n",
       "      <td>Zenobia</td>\n",
       "      <td>NaN</td>\n",
       "      <td>NaN</td>\n",
       "      <td>NaN</td>\n",
       "    </tr>\n",
       "    <tr>\n",
       "      <th>531</th>\n",
       "      <td>Zenobia</td>\n",
       "      <td>NaN</td>\n",
       "      <td>NaN</td>\n",
       "      <td>NaN</td>\n",
       "    </tr>\n",
       "    <tr>\n",
       "      <th>532</th>\n",
       "      <td>Zenobia</td>\n",
       "      <td>NaN</td>\n",
       "      <td>NaN</td>\n",
       "      <td>NaN</td>\n",
       "    </tr>\n",
       "    <tr>\n",
       "      <th>533</th>\n",
       "      <td>Zenobia</td>\n",
       "      <td>NaN</td>\n",
       "      <td>NaN</td>\n",
       "      <td>NaN</td>\n",
       "    </tr>\n",
       "    <tr>\n",
       "      <th>534</th>\n",
       "      <td>Zenobia</td>\n",
       "      <td>NaN</td>\n",
       "      <td>NaN</td>\n",
       "      <td>NaN</td>\n",
       "    </tr>\n",
       "  </tbody>\n",
       "</table>\n",
       "</div>"
      ],
      "text/plain": [
       "       Place Monument name Description Commons_category\n",
       "525  Zenobia           NaN         NaN              NaN\n",
       "526  Zenobia           NaN         NaN              NaN\n",
       "527  Zenobia           NaN   Panorama.              NaN\n",
       "528  Zenobia           NaN         NaN              NaN\n",
       "529  Zenobia           NaN         NaN              NaN\n",
       "530  Zenobia           NaN         NaN              NaN\n",
       "531  Zenobia           NaN         NaN              NaN\n",
       "532  Zenobia           NaN         NaN              NaN\n",
       "533  Zenobia           NaN         NaN              NaN\n",
       "534  Zenobia           NaN         NaN              NaN"
      ]
     },
     "execution_count": 4,
     "metadata": {},
     "output_type": "execute_result"
    }
   ],
   "source": [
    "metadata_en.tail(10)"
   ]
  },
  {
   "cell_type": "code",
   "execution_count": 5,
   "metadata": {
    "collapsed": false,
    "nbpresent": {
     "id": "3769fd33-b858-4ca8-8eb6-81e00e394642"
    },
    "slideshow": {
     "slide_type": "subslide"
    }
   },
   "outputs": [
    {
     "data": {
      "text/html": [
       "<div>\n",
       "<table border=\"1\" class=\"dataframe\">\n",
       "  <thead>\n",
       "    <tr style=\"text-align: right;\">\n",
       "      <th></th>\n",
       "      <th>Folder</th>\n",
       "      <th>Filename</th>\n",
       "      <th>Nome foto</th>\n",
       "      <th>Anno</th>\n",
       "      <th>Luogo</th>\n",
       "      <th>Nome monumento</th>\n",
       "      <th>Descrizione</th>\n",
       "      <th>Nome autore</th>\n",
       "      <th>Place</th>\n",
       "      <th>Monument name</th>\n",
       "      <th>Description</th>\n",
       "      <th>Commons_category</th>\n",
       "    </tr>\n",
       "  </thead>\n",
       "  <tbody>\n",
       "    <tr>\n",
       "      <th>0</th>\n",
       "      <td>1_SIRIA - Palmira</td>\n",
       "      <td>1) Palmira. T.del bel temenos angolo sud-ovest...</td>\n",
       "      <td>Palmira _Tempio di Bel</td>\n",
       "      <td>1993</td>\n",
       "      <td>Palmira</td>\n",
       "      <td>Tempio di Bel</td>\n",
       "      <td>Tempio di Bel, angolo sud-ovest del temenos.</td>\n",
       "      <td>DecArch_Marina Milella</td>\n",
       "      <td>Palmyra</td>\n",
       "      <td>Temple of Baal</td>\n",
       "      <td>Tempio di Bel, angolo sud-ovest del temenos.</td>\n",
       "      <td>NaN</td>\n",
       "    </tr>\n",
       "    <tr>\n",
       "      <th>1</th>\n",
       "      <td>1_SIRIA - Palmira</td>\n",
       "      <td>2) Palmira. T.di bel porticato ovest. 2' marzo...</td>\n",
       "      <td>Palmira _Tempio di Bel</td>\n",
       "      <td>1993</td>\n",
       "      <td>Palmira</td>\n",
       "      <td>Tempio di Bel</td>\n",
       "      <td>Tempio di Bel, porticato ovest</td>\n",
       "      <td>DecArch_Marina Milella</td>\n",
       "      <td>Palmyra</td>\n",
       "      <td>Temple of Baal</td>\n",
       "      <td>Tempio di Bel, porticato ovest</td>\n",
       "      <td>NaN</td>\n",
       "    </tr>\n",
       "    <tr>\n",
       "      <th>2</th>\n",
       "      <td>1_SIRIA - Palmira</td>\n",
       "      <td>3) Palmira. Temenos T. di bel ingresso facciat...</td>\n",
       "      <td>Palmira _Tempio di Bel</td>\n",
       "      <td>1993</td>\n",
       "      <td>Palmira</td>\n",
       "      <td>Tempio di Bel</td>\n",
       "      <td>Tempio di Bel. Facciata interna dell'ingresso ...</td>\n",
       "      <td>DecArch_Marina Milella</td>\n",
       "      <td>Palmyra</td>\n",
       "      <td>Temple of Baal</td>\n",
       "      <td>Tempio di Bel. Facciata interna dell'ingresso ...</td>\n",
       "      <td>NaN</td>\n",
       "    </tr>\n",
       "    <tr>\n",
       "      <th>3</th>\n",
       "      <td>1_SIRIA - Palmira</td>\n",
       "      <td>4) Palmira. Temenos T. di bel ingresso facciat...</td>\n",
       "      <td>Palmira _Tempio di Bel</td>\n",
       "      <td>1993</td>\n",
       "      <td>Palmira</td>\n",
       "      <td>Tempio di Bel</td>\n",
       "      <td>Tempio di Bel. Facciata interna dell'ingresso ...</td>\n",
       "      <td>DecArch_Marina Milella</td>\n",
       "      <td>Palmyra</td>\n",
       "      <td>Temple of Baal</td>\n",
       "      <td>Tempio di Bel. Facciata interna dell'ingresso ...</td>\n",
       "      <td>NaN</td>\n",
       "    </tr>\n",
       "    <tr>\n",
       "      <th>4</th>\n",
       "      <td>1_SIRIA - Palmira</td>\n",
       "      <td>5) Palmira. Temenos T. di bel ingresso facciat...</td>\n",
       "      <td>Palmira _Tempio di Bel</td>\n",
       "      <td>1993</td>\n",
       "      <td>Palmira</td>\n",
       "      <td>Tempio di Bel</td>\n",
       "      <td>Tempio di Bel. Facciata interna dell'ingresso ...</td>\n",
       "      <td>DecArch_Marina Milella</td>\n",
       "      <td>Palmyra</td>\n",
       "      <td>Temple of Baal</td>\n",
       "      <td>Tempio di Bel. Facciata interna dell'ingresso ...</td>\n",
       "      <td>NaN</td>\n",
       "    </tr>\n",
       "  </tbody>\n",
       "</table>\n",
       "</div>"
      ],
      "text/plain": [
       "              Folder                                           Filename  \\\n",
       "0  1_SIRIA - Palmira  1) Palmira. T.del bel temenos angolo sud-ovest...   \n",
       "1  1_SIRIA - Palmira  2) Palmira. T.di bel porticato ovest. 2' marzo...   \n",
       "2  1_SIRIA - Palmira  3) Palmira. Temenos T. di bel ingresso facciat...   \n",
       "3  1_SIRIA - Palmira  4) Palmira. Temenos T. di bel ingresso facciat...   \n",
       "4  1_SIRIA - Palmira  5) Palmira. Temenos T. di bel ingresso facciat...   \n",
       "\n",
       "                Nome foto  Anno    Luogo Nome monumento  \\\n",
       "0  Palmira _Tempio di Bel  1993  Palmira  Tempio di Bel   \n",
       "1  Palmira _Tempio di Bel  1993  Palmira  Tempio di Bel   \n",
       "2  Palmira _Tempio di Bel  1993  Palmira  Tempio di Bel   \n",
       "3  Palmira _Tempio di Bel  1993  Palmira  Tempio di Bel   \n",
       "4  Palmira _Tempio di Bel  1993  Palmira  Tempio di Bel   \n",
       "\n",
       "                                         Descrizione             Nome autore  \\\n",
       "0       Tempio di Bel, angolo sud-ovest del temenos.  DecArch_Marina Milella   \n",
       "1                     Tempio di Bel, porticato ovest  DecArch_Marina Milella   \n",
       "2  Tempio di Bel. Facciata interna dell'ingresso ...  DecArch_Marina Milella   \n",
       "3  Tempio di Bel. Facciata interna dell'ingresso ...  DecArch_Marina Milella   \n",
       "4  Tempio di Bel. Facciata interna dell'ingresso ...  DecArch_Marina Milella   \n",
       "\n",
       "     Place   Monument name                                        Description  \\\n",
       "0  Palmyra  Temple of Baal       Tempio di Bel, angolo sud-ovest del temenos.   \n",
       "1  Palmyra  Temple of Baal                     Tempio di Bel, porticato ovest   \n",
       "2  Palmyra  Temple of Baal  Tempio di Bel. Facciata interna dell'ingresso ...   \n",
       "3  Palmyra  Temple of Baal  Tempio di Bel. Facciata interna dell'ingresso ...   \n",
       "4  Palmyra  Temple of Baal  Tempio di Bel. Facciata interna dell'ingresso ...   \n",
       "\n",
       "  Commons_category  \n",
       "0              NaN  \n",
       "1              NaN  \n",
       "2              NaN  \n",
       "3              NaN  \n",
       "4              NaN  "
      ]
     },
     "execution_count": 5,
     "metadata": {},
     "output_type": "execute_result"
    }
   ],
   "source": [
    "merged = pd.concat([metadata_it,metadata_en], axis=1) \n",
    "merged.head(5)"
   ]
  },
  {
   "cell_type": "markdown",
   "metadata": {},
   "source": [
    "# Create filenames"
   ]
  },
  {
   "cell_type": "code",
   "execution_count": 54,
   "metadata": {
    "collapsed": false
   },
   "outputs": [],
   "source": [
    "def create_filename(fold, fobj):\n",
    "    import os\n",
    "    \"\"\"Takes a DataFrame row from the 'merged' dataframe and returns a string filename.\"\"\"\n",
    "    # remove all underscores\n",
    "    no_underscores = regex.sub(r\"_\", \" \", fobj)\n",
    "    \n",
    "    # <Filename0>, dummy, <Filename1> = <Filename>.partition(\" \") \n",
    "    filename0, dummy, filename1 = no_underscores.partition(\" \")\n",
    "    #print(\"filename0: {}\\n dummy: {}\\n filename1: {}\\n\".format(filename0, dummy, filename1))\n",
    "    \n",
    "    # Grab the extension for later use\n",
    "    ext = regex.findall(r\"\\.\\w+\",filename1)[-1]\n",
    "    #print(ext)\n",
    "    \n",
    "    # <Filename_1_clean> = <Filename1> with \"20 marzo...\" removed, any dubble spaces replaced by single ones \n",
    "    # and finally the spaces substituted by underscores (_). \n",
    "    yeardate_patt = regex.compile(r\"[\\. ]?\\d+[o']? m? ?arz[o0p] ?'?\\d+[\\. ]?\",flags=regex.I)\n",
    "    year_patt = regex.compile(r\" '\\d\\d[\\.,]? \",flags=regex.I)\n",
    "    date_patt = regex.compile(r\"20 marzo\", flags=regex.I)\n",
    "    \n",
    "    yeardate_match = yeardate_patt.search(filename1)\n",
    "    year_match = year_patt.search(filename1)\n",
    "    date_match = date_patt.search(filename1)\n",
    "    \n",
    "    #print(\"filename1: {}\".format(filename1))\n",
    "        \n",
    "    if yeardate_match:\n",
    "        filename_1_clean = regex.sub(yeardate_patt, \" \",filename1)\n",
    "        #print(\"yeardate_match. filename_1_clean is:\\n {:<30}\".format(filename_1_clean))\n",
    "        \n",
    "    elif year_match and not yeardate_match:\n",
    "        filename_1_clean = regex.sub(year_patt, \" \",filename1)\n",
    "        #print(\"year_match and not yeardate_match. filename_1_clean is:\\n {:<30}\".format(filename_1_clean))\n",
    "        \n",
    "    #elif date_match and not yeardate_match:\n",
    "    #    print(\"date_match: {} in filename1: {}\".format(date_match,filename1))\n",
    "    \n",
    "    else:\n",
    "        filename_1_clean = filename1\n",
    "        #print(\"no year_match or yeardate_match. filename_1_clean is:\\n {:<30}\".format(filename_1_clean))\n",
    "    \n",
    "    # Remove the extension from filename_1_clean\n",
    "    fname, extension = os.path.splitext(filename_1_clean)\n",
    "    \n",
    "    filename_1_clean = fname\n",
    "    #print(filename_1_clean)\n",
    "    \n",
    "    \n",
    "    # Remove all 'Bis' from end of filename_1_clean\n",
    "    filename_1_clean = regex.sub(r\"Bis\", \"\", filename_1_clean, flags=regex.I)\n",
    "    #print(\"filename_1_clean: {}\".format(filename_1_clean))\n",
    "    \n",
    "    # Remove all leading and trailing whitespace from end of filename_1_clean\n",
    "    # Ensure no double spaces left\n",
    "    filename_1_clean = filename_1_clean.strip(\". \").replace(\" \", \"_\").replace(\"__\", \"_\")\n",
    "    #print(repr(filename_1_clean))\n",
    "    \n",
    "    # <Filename_0_clean> = <Filename0> with any trailing brackets ()) removed.\n",
    "    filename_0_clean = regex.sub(r\"\\).?\",\"\",filename0)\n",
    "    #print(filename_0_clean)\n",
    "        \n",
    "    # <Folder_#>, dummy, dummy = <Folder>.partition(\"_\")\n",
    "    folder_no, dummy, dummy  = fold.partition(\"_\")\n",
    "    #print(\"Folder number is: {}\".format(folder_no))\n",
    "    \n",
    "    ################## Final piecing together of filename ####################################\n",
    "    #Filename: <Filename_1_clean>_-_DecArch_-_<Folder_no>-<Filename_0_clean>.<ext>\n",
    "    #Filename example:\n",
    "    #So for 49) Palmira. Via colonnata presso il teatro. 20 marzo '93. Bis.jpg end result is\n",
    "    #Palmira._Via_colonnata_presso_il_teatro._-_DecArch_-1-49.jpg\n",
    "    #Palmira._Via_colonnata_presso_il_teatro._-_DecArch_-1-49.jpg\n",
    "    filename = filename_1_clean + \"_-_DecArch_-_\" + folder_no + \"-\" + filename_0_clean\n",
    "    #print(\"filename: {}\\n\".format(filename))\n",
    "    \n",
    "    # Ensure no multiple spaces left\n",
    "    #filename = regex.sub(r\" +\",\" \", filename)\n",
    "    #print(\"filename is: {}\".format(filename))\n",
    "    \n",
    "    return filename"
   ]
  },
  {
   "cell_type": "markdown",
   "metadata": {
    "nbpresent": {
     "id": "1b0e9f77-27b9-403e-b72f-180298de7462"
    },
    "slideshow": {
     "slide_type": "slide"
    }
   },
   "source": [
    "# Keyword mappings\n",
    "\n",
    "Mappings of places published as wikitables can be found here:\n",
    "\n",
    "https://commons.wikimedia.org/w/index.php?title=Special%3APrefixIndex&prefix=Associazione+DecArch%2FBatch+upload%2F&namespace=4"
   ]
  },
  {
   "cell_type": "markdown",
   "metadata": {
    "nbpresent": {
     "id": "ed7214d6-c3c4-4e94-885b-af3fe0700199"
    },
    "slideshow": {
     "slide_type": "fragment"
    }
   },
   "source": [
    "## Places (Luogo)\n",
    "\n",
    "We have two different mappings of places, one general based on the column \"Place (Luogo)\" in the original metadata file and one more specific which is a combination of the columns \"Place (Luogo)\" and \"Subject (Nome_monumento)\". \n",
    "\n",
    "The mapping can be found here:\n",
    "\n",
    "https://commons.wikimedia.org/wiki/Commons:Associazione_DecArch/Batch_upload/places"
   ]
  },
  {
   "cell_type": "code",
   "execution_count": 7,
   "metadata": {
    "collapsed": false,
    "nbpresent": {
     "id": "b17ac894-1eea-41f8-859a-a0e4974a5af8"
    },
    "slideshow": {
     "slide_type": "subslide"
    }
   },
   "outputs": [],
   "source": [
    "place_mappings_url = \"https://commons.wikimedia.org/wiki/Commons:Associazione_DecArch/Batch_upload/places\"\n",
    "place_mappings = pd.read_html(place_mappings_url, attrs = {\"class\":\"wikitable\"}, header=0)\n",
    "place_mappings_general = place_mappings[0]\n",
    "# Strip away potential surrounding whitespace\n",
    "place_mappings_general[\"Luogo\"] = place_mappings_general.Luogo.str.strip() \n",
    "place_mappings_general[\"wikidata\"] = place_mappings_general.wikidata.str.strip()\n",
    "place_mappings_general[\"category\"] = place_mappings_general.category.str.strip() \n",
    "place_mappings_general[\"category\"] = place_mappings_general.category.str.replace(\"_\", \" \") \n",
    "\n",
    "place_mappings_general = place_mappings_general.set_index(\"Luogo\")\n",
    "\n",
    "place_mappings_specific = place_mappings[1]\n",
    "# Strip away potential surrounding whitespace\n",
    "place_mappings_specific[\"Luogo\"] = place_mappings_specific.Luogo.str.strip()\n",
    "place_mappings_specific[\"Nome_monumento\"] = place_mappings_specific.Nome_monumento.str.strip()\n",
    "\n",
    "place_mappings_specific[\"category\"] = place_mappings_specific.category.str.strip()\n",
    "place_mappings_specific[\"category\"] = place_mappings_specific.category.str.replace(\"_\", \" \")\n",
    "place_mappings_specific[\"wikidata\"] = place_mappings_specific.wikidata.str.strip()\n",
    "\n",
    "\n",
    "place_mappings_specific[\"Specific_place\"] = place_mappings_specific.Luogo + \" \" + place_mappings_specific.Nome_monumento\n",
    "place_mappings_specific = place_mappings_specific[[\"Specific_place\" ,\"Luogo\",\"Nome_monumento\",\"category\",\"wikidata\"]]\n",
    "place_mappings_specific = place_mappings_specific.set_index(\"Specific_place\")"
   ]
  },
  {
   "cell_type": "code",
   "execution_count": 38,
   "metadata": {
    "collapsed": false
   },
   "outputs": [
    {
     "data": {
      "text/html": [
       "<div>\n",
       "<table border=\"1\" class=\"dataframe\">\n",
       "  <thead>\n",
       "    <tr style=\"text-align: right;\">\n",
       "      <th></th>\n",
       "      <th>frequency</th>\n",
       "      <th>category</th>\n",
       "      <th>wikidata</th>\n",
       "    </tr>\n",
       "    <tr>\n",
       "      <th>Luogo</th>\n",
       "      <th></th>\n",
       "      <th></th>\n",
       "      <th></th>\n",
       "    </tr>\n",
       "  </thead>\n",
       "  <tbody>\n",
       "    <tr>\n",
       "      <th>Palmira</th>\n",
       "      <td>243</td>\n",
       "      <td>Category:Palmyra</td>\n",
       "      <td>d:Q5747</td>\n",
       "    </tr>\n",
       "    <tr>\n",
       "      <th>Damasco</th>\n",
       "      <td>79</td>\n",
       "      <td>Category:Damascus</td>\n",
       "      <td>d:Q3766</td>\n",
       "    </tr>\n",
       "    <tr>\n",
       "      <th>Aleppo</th>\n",
       "      <td>55</td>\n",
       "      <td>Category:Aleppo</td>\n",
       "      <td>d:Q41183</td>\n",
       "    </tr>\n",
       "  </tbody>\n",
       "</table>\n",
       "</div>"
      ],
      "text/plain": [
       "         frequency           category  wikidata\n",
       "Luogo                                          \n",
       "Palmira        243   Category:Palmyra   d:Q5747\n",
       "Damasco         79  Category:Damascus   d:Q3766\n",
       "Aleppo          55    Category:Aleppo  d:Q41183"
      ]
     },
     "execution_count": 38,
     "metadata": {},
     "output_type": "execute_result"
    }
   ],
   "source": [
    "place_mappings_general.head(3)"
   ]
  },
  {
   "cell_type": "code",
   "execution_count": 37,
   "metadata": {
    "collapsed": false
   },
   "outputs": [
    {
     "data": {
      "text/html": [
       "<div>\n",
       "<table border=\"1\" class=\"dataframe\">\n",
       "  <thead>\n",
       "    <tr style=\"text-align: right;\">\n",
       "      <th></th>\n",
       "      <th>Luogo</th>\n",
       "      <th>Nome_monumento</th>\n",
       "      <th>category</th>\n",
       "      <th>wikidata</th>\n",
       "    </tr>\n",
       "    <tr>\n",
       "      <th>Specific_place</th>\n",
       "      <th></th>\n",
       "      <th></th>\n",
       "      <th></th>\n",
       "      <th></th>\n",
       "    </tr>\n",
       "  </thead>\n",
       "  <tbody>\n",
       "    <tr>\n",
       "      <th>Damasco Museo</th>\n",
       "      <td>Damasco</td>\n",
       "      <td>Museo</td>\n",
       "      <td>Category:National Museum of Damascus</td>\n",
       "      <td>d:Q617254</td>\n",
       "    </tr>\n",
       "    <tr>\n",
       "      <th>Aleppo Santuario S. Simeone</th>\n",
       "      <td>Aleppo</td>\n",
       "      <td>Santuario S. Simeone</td>\n",
       "      <td>Category:Church of Saint Simeon Stylites</td>\n",
       "      <td>d:Q1112125</td>\n",
       "    </tr>\n",
       "    <tr>\n",
       "      <th>Damasco Grande Moschea</th>\n",
       "      <td>Damasco</td>\n",
       "      <td>Grande Moschea</td>\n",
       "      <td>Category:Umayyad Mosque</td>\n",
       "      <td>d:Q183562</td>\n",
       "    </tr>\n",
       "  </tbody>\n",
       "</table>\n",
       "</div>"
      ],
      "text/plain": [
       "                               Luogo        Nome_monumento  \\\n",
       "Specific_place                                               \n",
       "Damasco Museo                Damasco                 Museo   \n",
       "Aleppo Santuario S. Simeone   Aleppo  Santuario S. Simeone   \n",
       "Damasco Grande Moschea       Damasco        Grande Moschea   \n",
       "\n",
       "                                                             category  \\\n",
       "Specific_place                                                          \n",
       "Damasco Museo                    Category:National Museum of Damascus   \n",
       "Aleppo Santuario S. Simeone  Category:Church of Saint Simeon Stylites   \n",
       "Damasco Grande Moschea                        Category:Umayyad Mosque   \n",
       "\n",
       "                               wikidata  \n",
       "Specific_place                           \n",
       "Damasco Museo                 d:Q617254  \n",
       "Aleppo Santuario S. Simeone  d:Q1112125  \n",
       "Damasco Grande Moschea        d:Q183562  "
      ]
     },
     "execution_count": 37,
     "metadata": {},
     "output_type": "execute_result"
    }
   ],
   "source": [
    "place_mappings_specific.head(3)"
   ]
  },
  {
   "cell_type": "markdown",
   "metadata": {
    "nbpresent": {
     "id": "d31e315c-98a0-46c7-a7b5-01bc7c48b6cd"
    },
    "slideshow": {
     "slide_type": "slide"
    }
   },
   "source": [
    "# Population of the Photograph template\n",
    "\n",
    "## Template mapping"
   ]
  },
  {
   "cell_type": "markdown",
   "metadata": {
    "slideshow": {
     "slide_type": "fragment"
    }
   },
   "source": [
    " The master template mapping lives as [task T143212 on Phabricator](https://phabricator.wikimedia.org/T143212)"
   ]
  },
  {
   "cell_type": "markdown",
   "metadata": {
    "nbpresent": {
     "id": "a06f0517-6e82-46bd-8a1b-ba449f753988"
    },
    "slideshow": {
     "slide_type": "subslide"
    }
   },
   "source": [
    "## Create wikitext for image pages\n",
    "Available as .py script on [my github](https://github.com/mattiasostmar/GAR_Syria_2016-06/blob/master/create_metatdata_textfiles.py)"
   ]
  },
  {
   "cell_type": "code",
   "execution_count": 55,
   "metadata": {
    "collapsed": true
   },
   "outputs": [],
   "source": [
    "def save_filename_to_filename_file(filname_file, filename):\n",
    "    \"\"\"Create a file mapping original filenames and their folders with new\n",
    "    Commons filenames according to <Task X on Phabricator>\"\"\"\n",
    "    folder = row[\"Folder\"]\n",
    "    file = row[\"Filename\"]\n",
    "    # Filename: <Filename_1_clean>_-_DecArch_-_<Folder_#>-<Filename_0_clean>.<ext>\n",
    "    \n",
    "    #print(\"filename: {}\".format(filename))\n",
    "    filenames_file.write(\"{}|{}|{}\\n\".format(row[\"Folder\"],row[\"Filename\"],filename))"
   ]
  },
  {
   "cell_type": "code",
   "execution_count": 66,
   "metadata": {
    "collapsed": false
   },
   "outputs": [],
   "source": [
    "def create_infofile(row, filename):\n",
    "    \"\"\"Create wikitext for each file and store them in a folder with the extension .info\"\"\"\n",
    "    \n",
    "    outpath = \"./photograph_template_texts/\"\n",
    "    nome_foto = row[\"Nome foto\"].replace(\" \", \"_\")\n",
    "    nome_foto_0, dummy, nome_foto_1 = nome_foto.rpartition(\"_\")\n",
    "    #print(\"nome_foto_0: {}\\ndummy: {}\\nnome_foto_1: {}\".format(nome_foto_0,dummy,nome_foto_1))\n",
    "    global total_images\n",
    "    global OK_images\n",
    "    global faulty_images\n",
    "    \n",
    "    total_images += 1\n",
    "    \n",
    "    template_parts = []\n",
    "    \n",
    "    header = \"{{Photograph\"\n",
    "    template_parts.append(header)\n",
    "    \n",
    "    if not pd.isnull(row[\"Nome autore\"]): \n",
    "        photographer = \"|photographer = \" + row[\"Nome autore\"][8:]\n",
    "    else:\n",
    "        print(\"Warning! Empty Author column in row no {} photo {}\".format(row_no, row[\"Nome foto\"]))\n",
    "        photographer = \"|photographer = \"\n",
    "        faulty_images += 1\n",
    "    template_parts.append(photographer)\n",
    "    \n",
    "    title_it = \"{{it|'''\" + regex.sub(\"_\",\" \",nome_foto) + \"'''}}\"\n",
    "    #title_en = \"{{en|\" + regex.sub(\"_\",\" \",row[\"Title\"][:-3]) + \"}}\"\n",
    "    \n",
    "    title = \"|title = \" + title_it #+ \"\\n\" + title_en\n",
    "    template_parts.append(title)\n",
    "    \n",
    "    # {{it|<Descrizione> OR <Nome monumento>, <Luogo>, <Anno>}}  IF <Nome monumento> is the same as <Luogo> then leave out <Nome Monumento>\n",
    "    if pd.notnull(row[\"Descrizione\"]) and len(row[\"Descrizione\"].split()) >3: \n",
    "        description_it = \"{{it|\" + row[\"Descrizione\"] + \"}}\"\n",
    "    else:\n",
    "        if pd.notnull(row[\"Nome monumento\"]) and pd.notnull(row[\"Luogo\"]) and row[\"Nome monumento\"] != row[\"Luogo\"]: \n",
    "            description_it = \"{{it|\" + str(row[\"Nome monumento\"]) + \", \" + str(row[\"Luogo\"]) + \", \" + str(row[\"Anno\"]) + \"}}\"\n",
    "        else:\n",
    "            pass # Fill in correct code here!\n",
    "            description_it = \"{{it|\" + str(str(row[\"Luogo\"])) + \", \" + str(row[\"Anno\"]) + \"}}\"\n",
    "    \n",
    "    eng_description_maintanence_category = None\n",
    "    # {{en|<Description> OR <Subject>, <Place> in <Anno>}} IF <Description> is the same as <Descrizione> THEN treat as empty\n",
    "    if pd.notnull(row[\"Description\"]) and not (row[\"Description\"] == row[\"Descrizione\"]): #77 av 535 helt tomma\n",
    "        #print(\"Case 1\")\n",
    "        description_en = \"{{en|\" + row[\"Monument name\"] + \"}}\" # <Description> is empty though, not translated\n",
    "        #description = \"|description = \" + description_it + \"\\n\" + description_en\n",
    "        \n",
    "    elif pd.notnull(row[\"Monument name\"]) and pd.notnull(row[\"Description\"]) and not row[\"Monument name\"] == row[\"Nome monumento\"]:\n",
    "        #print(\"Case  2\")\n",
    "        #description_en = \"{{en|\" + str(row[\"Description\"]) + \", \" + str(row[\"Place\"]) + \" in \" + str(row[\"Anno\"]) + \"}}\"\n",
    "        description_en = \"{{en|\" + row[\"Monument name\"] + row[\"Place\"] + \", in \" + str(row[\"Anno\"])\n",
    "        \n",
    "    else:\n",
    "        #print(\"Case 3\") # add maintanence category further down in categories appending section\n",
    "        eng_description_maintanence_category = \"[[Category:Images_from_DecArch_without_English_description]]\" # Nothing here at the moment\n",
    "    \n",
    "    \n",
    "    if 'description_en' in locals():\n",
    "        template_parts.extend([description_it, description_en])\n",
    "    else: \n",
    "        template_parts.append(description_it)\n",
    "    \n",
    "    depicted_people = \"|depicted people =\"\n",
    "    template_parts.append(depicted_people)\n",
    "    # Workoaround that we don't have actual specific places in mapping table\n",
    "    if not row[\"Luogo\"] == row[\"Nome monumento\"] and pd.notnull(row[\"Luogo\"]) and pd.notnull(row[\"Nome monumento\"]):\n",
    "        \n",
    "        spec_place = row[\"Luogo\"] + \" \" + row[\"Nome monumento\"]\n",
    "    \n",
    "        if not place_mappings_specific.loc[spec_place][\"wikidata\"] == \"-\" \\\n",
    "        and pd.notnull(place_mappings_specific.loc[spec_place][\"wikidata\"]):\n",
    "            depicted_place = \"|depicted place = {{city|\" + \\\n",
    "            place_mappings_specific.loc[spec_place][\"wikidata\"][2:] + \"}}\" #[2:] since \"d:\" begins wikidata string\n",
    "            #print(depicted_place)\n",
    "        elif not place_mappings_general.loc[row[\"Luogo\"]][\"wikidata\"] == \"-\" or pd.isnull(place_mappings_general.loc[row[\"Luogo\"]][\"wikidata\"]):\n",
    "            depicted_place = \"|depicted place = {{city|\" + \\\n",
    "            place_mappings_general.loc[row[\"Luogo\"]][\"wikidata\"][2:] + \"}}\" #[2:] since \"d:\" begins wikidata string\n",
    "            #print(depicted_place)\n",
    "        else:\n",
    "            depicted_place = \"|depicted place = \" + row[\"Nome monumento\"] + \", \" + row[\"Luogo\"]\n",
    "            #print(depicted_place)\n",
    "            \n",
    "    else:\n",
    "        depicted_place = \"|depicted place = \" + row[\"Luogo\"]\n",
    "    template_parts.append(depicted_place)\n",
    "    \n",
    "    # ex \"...20 marzo '93...\"\n",
    "    common_date_patt = regex.compile(r\" 20?[o']? m? ?arz[o0p] ?'?\\d+[\\. ]?\",flags=regex.I) # matches one occasion of 2 marzo '93\n",
    "    common_date_match = common_date_patt.search(row[\"Filename\"])\n",
    "    #print(\"Filename: {}\\nMatch: {}\".format(row[\"Filename\"], common_date_match))\n",
    "    \n",
    "    if pd.notnull(row[\"Anno\"]):\n",
    "        if common_date_match:\n",
    "            date = \"|date = 1993-03-20\" # or better {{date|1993|3|20}}?\n",
    "        else:\n",
    "            date = \"|date = \" + str(row[\"Anno\"])\n",
    "    else:\n",
    "        date = \"|date = \"\n",
    "    template_parts.append(date)\n",
    "        \n",
    "    medium = \"|medium =\" \n",
    "    template_parts.append(medium)\n",
    "    \n",
    "    dimensions = \"|dimensions =\"\n",
    "    template_parts.append(dimensions)\n",
    "    \n",
    "    institution = \"|institution = {{Institution:Associazione DecArch}}\"\n",
    "    template_parts.append(institution)\n",
    "    \n",
    "    department = \"|department =\"\n",
    "    template_parts.append(department)\n",
    "    \n",
    "    references = \"|references =\"\n",
    "    template_parts.append(references)\n",
    "    \n",
    "    object_history = \"|object history =\"\n",
    "    template_parts.append(object_history)\n",
    "    \n",
    "    exhibition_history = \"|exhibition history =\"\n",
    "    template_parts.append(exhibition_history)\n",
    "    \n",
    "    credit_line = \"|credit line =\"\n",
    "    template_parts.append(credit_line)\n",
    "    \n",
    "    inscriptions = \"|inscriptions =\"\n",
    "    template_parts.append(inscriptions)\n",
    "    \n",
    "    notes = \"|notes =\"\n",
    "    template_parts.append(notes)\n",
    "    \n",
    "    accession_number = \"|accession number =\"\n",
    "    template_parts.append(accession_number)\n",
    "    \n",
    "    source = \"|source = \" +\\\n",
    "    \"The original image file was recieved from Associazione Decarch with the following <folder> / <filename> structure:<br />\\n''\" +\\\n",
    "    str(row[\"Folder\"]) + \" / \" + str(row[\"Filename\"]) + \"''\\n{{Associazione DecArch cooperation project|COH}}\"\n",
    "    \n",
    "    template_parts.append(source)\n",
    "    \n",
    "    if pd.notnull(row[\"Nome autore\"]):\n",
    "        permission = \"|permission = {{CC-BY-SA-4.0|\" + row[\"Nome autore\"][8:] + \" / DecArch}}\\n{{PermissionOTRS|id=2016042410005869}}\"\n",
    "    else:\n",
    "        permission = \"|permission = {{CC-BY-SA-4.0|Associazione DecArch}}\\n{{PermissionOTRS|id=2016042410005869}}\"\n",
    "    template_parts.append(permission)\n",
    "    \n",
    "    other_versions = \"|other_versions =\"\n",
    "    template_parts.append(other_versions)\n",
    "    \n",
    "    template_parts.append(\"}}\")\n",
    "    \n",
    "    \n",
    "    categories_list = []\n",
    "    # [[Category:<Category from Specific Place> AND/OR <Category from Luogo (place)>]] \n",
    "    specific_place_category = None\n",
    "    general_place_category = None\n",
    "    categories_maintanence_category = None\n",
    "    batchupload_category = \"[[Category:Images_from_DecArch_2016-08]]\"\n",
    "    # if requested by DecArch:\n",
    "    # translation_needed_category = \"[[Category:Images_from_DecArch_needing_English_description]]\"\n",
    "    # categories_list.append(translation_needed_category)\n",
    "    \n",
    "    if eng_description_maintanence_category:\n",
    "        categories_list.append(eng_description_maintanence_category)\n",
    "    \n",
    "    if 'spec_place' in locals():\n",
    "        if place_mappings_specific.loc[spec_place][\"category\"] != \"-\" and pd.notnull(place_mappings_specific.loc[spec_place][\"category\"]): \n",
    "            specific_place_category = \"[[\" + place_mappings_specific.loc[spec_place][\"category\"] + \"]]\"\n",
    "            #print(\"specific_place_category{}\".format(specific_place_category)) \n",
    "\n",
    "            \n",
    "    if place_mappings_general.loc[row[\"Luogo\"]][\"category\"] != \"-\" and pd.notnull(place_mappings_general.loc[row[\"Luogo\"]][\"category\"]):\n",
    "        general_place_category = \"[[\" + place_mappings_general.loc[row[\"Luogo\"]][\"category\"] + \"]]\"\n",
    "        #print(\"general_place_category: {}\".format(general_place_category))\n",
    "    \n",
    "    # manage content categories\n",
    "    if specific_place_category:\n",
    "        categories_list.append(specific_place_category)\n",
    "        \n",
    "    elif general_place_category and not specific_place_category:\n",
    "        categories_list.append(general_place_category) \n",
    "        \n",
    "    elif general_place_category and specific_place_category:\n",
    "        categories_list.extend([general_place_category, specific_place_category])\n",
    "        \n",
    "    else:\n",
    "        print(\"No categories appended to file: {}\".format(filename))\n",
    "        categories_maintanence_category = \"[[Category:Images_from_DecArch_without_categories]]\"\n",
    "        #print(\"maintanence_category: {}\".format(maintanence_category))\n",
    "        categories_list.append(categories_maintanence_category)\n",
    "    \n",
    "    Commons_category = \"[[Category:\" + str(row[\"Commons_category\"]) + \"]]\"\n",
    "    if regex.search(r\" \\+ \",Commons_category):\n",
    "        cats = regex.split(r\" \\+ \",Commons_category)\n",
    "        #print(\"{} is really {}\".format(row.Commons_category, cats))\n",
    "        \n",
    "        for cat_no, cat in enumerate(cats):\n",
    "            if cat_no == 0:\n",
    "                Commons_category = cat + \"]]\" \n",
    "            else:\n",
    "                Commons_category = \"[[Category:\" + cat\n",
    "            \n",
    "            if Commons_category != specific_place_category and Commons_category != general_place_category:\n",
    "                categories_list.append(Commons_category)\n",
    "                #print(\"Commons_category: {}\".format(Commons_category))\n",
    "            else:\n",
    "                pass\n",
    "    else:\n",
    "        pass\n",
    "    \n",
    "    if Commons_category != specific_place_category \\\n",
    "    and Commons_category != general_place_category \\\n",
    "    and pd.notnull(row[\"Commons_category\"]):\n",
    "        categories_list.append(Commons_category)\n",
    "        #print(\"Commons_category: {}\".format(Commons_category))\n",
    "                \n",
    "    if categories_list == None:\n",
    "        print(\"categories_list is None\")\n",
    "        categories_list.append(categories_maintanence_category)\n",
    "        faulty_images += 1\n",
    "\n",
    "    categories_list.append(batchupload_category)\n",
    "    \n",
    "    \n",
    "    if len(categories_list) >0:\n",
    "        OK_images += 1\n",
    "    #print(categories_list)\n",
    "    #print()\n",
    "    \n",
    "    if not os.path.exists(outpath):\n",
    "        os.mkdir(outpath)\n",
    "    outfile = open(outpath + filename + \".info\", \"w\")\n",
    "    outfile.write(\"\\n\".join(template_parts) + \"\\n\" + \"\\n\".join(categories_list))\n",
    "\n",
    "    outfile.close()\n",
    "    #return total_images, faulty_images, OK_images"
   ]
  },
  {
   "cell_type": "code",
   "execution_count": 67,
   "metadata": {
    "collapsed": false,
    "nbpresent": {
     "id": "9a74f27c-f47c-42df-af6d-eb91255d342e"
    },
    "slideshow": {
     "slide_type": "fragment"
    }
   },
   "outputs": [],
   "source": [
    "# remove possible duplicate files with other extension names\n",
    "!rm -rf ./photograph_template_texts/*\n",
    "\n",
    "total_images = 0\n",
    "OK_images = 0\n",
    "uncategorized_images = 0\n",
    "faulty_images = 0\n",
    "\n",
    "filenames_file = open(\"./filenames_mapping.csv\",\"w\")\n",
    "filenames_file.write(\"Folder|Original|Commons\\n\")\n",
    "    \n",
    "for row_index, row in merged.iterrows():\n",
    "    filename = create_filename(row[\"Folder\"], row[\"Filename\"])\n",
    "    save_filename_to_filename_file(filenames_file, filename)\n",
    "    create_infofile(row, filename)\n",
    "    #print(\"Stats: \\nTotal images {}\\nOK images {}\\nUncategorized images {}\\nImages missing author {}\".format(total_images, OK_images - faulty_images, uncategorized_images, faulty_images ))\n",
    "#print(\"Total Stats: \\nTotal images {}\\nOK images {}\\nUncategorized images {}\\nImages missing author {}\".format(total_images, OK_images - faulty_images, uncategorized_images, faulty_images ))"
   ]
  },
  {
   "cell_type": "markdown",
   "metadata": {},
   "source": [
    "## Tests"
   ]
  },
  {
   "cell_type": "code",
   "execution_count": 44,
   "metadata": {
    "collapsed": false
   },
   "outputs": [
    {
     "name": "stdout",
     "output_type": "stream",
     "text": [
      "139\n"
     ]
    }
   ],
   "source": [
    "not_translated_description = 0\n",
    "for index, row in merged.iterrows():\n",
    "    if row[\"Description\"] == row[\"Descrizione\"]:\n",
    "        not_translated_description += 1\n",
    "print(not_translated_description)"
   ]
  },
  {
   "cell_type": "code",
   "execution_count": 45,
   "metadata": {
    "collapsed": false
   },
   "outputs": [
    {
     "name": "stdout",
     "output_type": "stream",
     "text": [
      "433\n"
     ]
    }
   ],
   "source": [
    "not_translated_monument_name = 0\n",
    "for index, row in merged.iterrows():\n",
    "    if row[\"Monument name\"] == row[\"Nome monumento\"]:\n",
    "        not_translated_description += 1\n",
    "print(not_translated_description)"
   ]
  },
  {
   "cell_type": "code",
   "execution_count": null,
   "metadata": {
    "collapsed": false
   },
   "outputs": [],
   "source": [
    "depicted_place = \"|depicted place = {{city|\" + place_mappings_specific.loc[row[\"Luogo\"]][\"wikidata\"] + \"}}\""
   ]
  },
  {
   "cell_type": "code",
   "execution_count": 15,
   "metadata": {
    "collapsed": false
   },
   "outputs": [
    {
     "data": {
      "text/html": [
       "<div>\n",
       "<table border=\"1\" class=\"dataframe\">\n",
       "  <thead>\n",
       "    <tr style=\"text-align: right;\">\n",
       "      <th></th>\n",
       "      <th>Luogo</th>\n",
       "      <th>Nome monumento</th>\n",
       "      <th>category</th>\n",
       "      <th>wikidata</th>\n",
       "    </tr>\n",
       "    <tr>\n",
       "      <th>Specific place</th>\n",
       "      <th></th>\n",
       "      <th></th>\n",
       "      <th></th>\n",
       "      <th></th>\n",
       "    </tr>\n",
       "  </thead>\n",
       "  <tbody>\n",
       "    <tr>\n",
       "      <th>Aleppo Cittadella</th>\n",
       "      <td>Aleppo</td>\n",
       "      <td>Cittadella</td>\n",
       "      <td>Category:Aleppo citadel</td>\n",
       "      <td>d:Q206231</td>\n",
       "    </tr>\n",
       "    <tr>\n",
       "      <th>Palmira Tempio di Baal</th>\n",
       "      <td>Palmira</td>\n",
       "      <td>Tempio di Baal</td>\n",
       "      <td>Category:Temple of Baal in Palmyra</td>\n",
       "      <td>d:Q797481</td>\n",
       "    </tr>\n",
       "    <tr>\n",
       "      <th>Aleppo Suq</th>\n",
       "      <td>Aleppo</td>\n",
       "      <td>Suq</td>\n",
       "      <td>Category:Aleppo</td>\n",
       "      <td>NaN</td>\n",
       "    </tr>\n",
       "    <tr>\n",
       "      <th>Qasr al-Hayr al-Sharqi Palazzo Omayyade</th>\n",
       "      <td>Qasr al-Hayr al-Sharqi</td>\n",
       "      <td>Palazzo Omayyade</td>\n",
       "      <td>NaN</td>\n",
       "      <td>NaN</td>\n",
       "    </tr>\n",
       "    <tr>\n",
       "      <th>Yabroud Necropoli di Yabroud</th>\n",
       "      <td>Yabroud</td>\n",
       "      <td>Necropoli di Yabroud</td>\n",
       "      <td>NaN</td>\n",
       "      <td>NaN</td>\n",
       "    </tr>\n",
       "    <tr>\n",
       "      <th>Sergiopolis Cattedrale bizantina</th>\n",
       "      <td>Sergiopolis</td>\n",
       "      <td>Cattedrale bizantina</td>\n",
       "      <td>NaN</td>\n",
       "      <td>NaN</td>\n",
       "    </tr>\n",
       "    <tr>\n",
       "      <th>Halabiyah Fortezza</th>\n",
       "      <td>Halabiyah</td>\n",
       "      <td>Fortezza</td>\n",
       "      <td>NaN</td>\n",
       "      <td>NaN</td>\n",
       "    </tr>\n",
       "    <tr>\n",
       "      <th>Apamea Tra i bambini del villaggio arabo</th>\n",
       "      <td>Apamea</td>\n",
       "      <td>Tra i bambini del villaggio arabo</td>\n",
       "      <td>NaN</td>\n",
       "      <td>NaN</td>\n",
       "    </tr>\n",
       "    <tr>\n",
       "      <th>Mari Palazzo di Zimri-Lin</th>\n",
       "      <td>Mari</td>\n",
       "      <td>Palazzo di Zimri-Lin</td>\n",
       "      <td>NaN</td>\n",
       "      <td>NaN</td>\n",
       "    </tr>\n",
       "    <tr>\n",
       "      <th>Palmyra Interno dell'Ipogeo di Artaban</th>\n",
       "      <td>Palmyra</td>\n",
       "      <td>Interno dell'Ipogeo di Artaban</td>\n",
       "      <td>NaN</td>\n",
       "      <td>NaN</td>\n",
       "    </tr>\n",
       "    <tr>\n",
       "      <th>Hama Centro Storico di Hama - particolare</th>\n",
       "      <td>Hama</td>\n",
       "      <td>Centro Storico di Hama - particolare</td>\n",
       "      <td>NaN</td>\n",
       "      <td>NaN</td>\n",
       "    </tr>\n",
       "    <tr>\n",
       "      <th>Burjikeh rovine bizantine</th>\n",
       "      <td>Burjikeh</td>\n",
       "      <td>rovine bizantine</td>\n",
       "      <td>NaN</td>\n",
       "      <td>NaN</td>\n",
       "    </tr>\n",
       "    <tr>\n",
       "      <th>Darkita rovine bizantine</th>\n",
       "      <td>Darkita</td>\n",
       "      <td>rovine bizantine</td>\n",
       "      <td>NaN</td>\n",
       "      <td>NaN</td>\n",
       "    </tr>\n",
       "    <tr>\n",
       "      <th>Hama Noria</th>\n",
       "      <td>Hama</td>\n",
       "      <td>Noria</td>\n",
       "      <td>NaN</td>\n",
       "      <td>NaN</td>\n",
       "    </tr>\n",
       "    <tr>\n",
       "      <th>Palmyra Interno di una tomba a torre</th>\n",
       "      <td>Palmyra</td>\n",
       "      <td>Interno di una tomba a torre</td>\n",
       "      <td>NaN</td>\n",
       "      <td>NaN</td>\n",
       "    </tr>\n",
       "    <tr>\n",
       "      <th>Tell Barry scavi</th>\n",
       "      <td>Tell Barry</td>\n",
       "      <td>scavi</td>\n",
       "      <td>NaN</td>\n",
       "      <td>NaN</td>\n",
       "    </tr>\n",
       "    <tr>\n",
       "      <th>Tartus Resti del centro medievale</th>\n",
       "      <td>Tartus</td>\n",
       "      <td>Resti del centro medievale</td>\n",
       "      <td>NaN</td>\n",
       "      <td>NaN</td>\n",
       "    </tr>\n",
       "    <tr>\n",
       "      <th>Jebl Zawiya Torre posizionata accanto a una grande villa</th>\n",
       "      <td>Jebl Zawiya</td>\n",
       "      <td>Torre posizionata accanto a una grande villa</td>\n",
       "      <td>NaN</td>\n",
       "      <td>NaN</td>\n",
       "    </tr>\n",
       "    <tr>\n",
       "      <th>Aleppo Quartieri di Aleppo</th>\n",
       "      <td>Aleppo</td>\n",
       "      <td>Quartieri di Aleppo</td>\n",
       "      <td>NaN</td>\n",
       "      <td>NaN</td>\n",
       "    </tr>\n",
       "    <tr>\n",
       "      <th>Al Quanawat Caseggiato romano</th>\n",
       "      <td>Al Quanawat</td>\n",
       "      <td>Caseggiato romano</td>\n",
       "      <td>NaN</td>\n",
       "      <td>NaN</td>\n",
       "    </tr>\n",
       "    <tr>\n",
       "      <th>Apamea Particolare delle sale espositive del Museo</th>\n",
       "      <td>Apamea</td>\n",
       "      <td>Particolare delle sale espositive del Museo</td>\n",
       "      <td>NaN</td>\n",
       "      <td>NaN</td>\n",
       "    </tr>\n",
       "    <tr>\n",
       "      <th>Apamea Via colonnata</th>\n",
       "      <td>Apamea</td>\n",
       "      <td>Via colonnata</td>\n",
       "      <td>NaN</td>\n",
       "      <td>NaN</td>\n",
       "    </tr>\n",
       "    <tr>\n",
       "      <th>Cyrrus Teatro romano</th>\n",
       "      <td>Cyrrus</td>\n",
       "      <td>Teatro romano</td>\n",
       "      <td>NaN</td>\n",
       "      <td>NaN</td>\n",
       "    </tr>\n",
       "    <tr>\n",
       "      <th>Palmyra Arco di Trionfo</th>\n",
       "      <td>Palmyra</td>\n",
       "      <td>Arco di Trionfo</td>\n",
       "      <td>NaN</td>\n",
       "      <td>NaN</td>\n",
       "    </tr>\n",
       "    <tr>\n",
       "      <th>Aleppo Museo</th>\n",
       "      <td>Aleppo</td>\n",
       "      <td>Museo</td>\n",
       "      <td>NaN</td>\n",
       "      <td>NaN</td>\n",
       "    </tr>\n",
       "    <tr>\n",
       "      <th>Aleppo Moschea Omayyadi</th>\n",
       "      <td>Aleppo</td>\n",
       "      <td>Moschea Omayyadi</td>\n",
       "      <td>NaN</td>\n",
       "      <td>NaN</td>\n",
       "    </tr>\n",
       "    <tr>\n",
       "      <th>Dura Europos Cittadella fortificazione sull'Efrate</th>\n",
       "      <td>Dura Europos</td>\n",
       "      <td>Cittadella fortificazione sull'Efrate</td>\n",
       "      <td>NaN</td>\n",
       "      <td>NaN</td>\n",
       "    </tr>\n",
       "    <tr>\n",
       "      <th>Bosra Teatro romano</th>\n",
       "      <td>Bosra</td>\n",
       "      <td>Teatro romano</td>\n",
       "      <td>NaN</td>\n",
       "      <td>NaN</td>\n",
       "    </tr>\n",
       "    <tr>\n",
       "      <th>Palmira Fakhr-al-Din al-Maani</th>\n",
       "      <td>Palmira</td>\n",
       "      <td>Fakhr-al-Din al-Maani</td>\n",
       "      <td>NaN</td>\n",
       "      <td>NaN</td>\n",
       "    </tr>\n",
       "    <tr>\n",
       "      <th>Ebla Palazzo G</th>\n",
       "      <td>Ebla</td>\n",
       "      <td>Palazzo G</td>\n",
       "      <td>NaN</td>\n",
       "      <td>NaN</td>\n",
       "    </tr>\n",
       "    <tr>\n",
       "      <th>...</th>\n",
       "      <td>...</td>\n",
       "      <td>...</td>\n",
       "      <td>...</td>\n",
       "      <td>...</td>\n",
       "    </tr>\n",
       "    <tr>\n",
       "      <th>Palmira Tempio della dea Allat/Atena</th>\n",
       "      <td>Palmira</td>\n",
       "      <td>Tempio della dea Allat/Atena</td>\n",
       "      <td>NaN</td>\n",
       "      <td>NaN</td>\n",
       "    </tr>\n",
       "    <tr>\n",
       "      <th>Hama Particolare di una Noria</th>\n",
       "      <td>Hama</td>\n",
       "      <td>Particolare di una Noria</td>\n",
       "      <td>NaN</td>\n",
       "      <td>NaN</td>\n",
       "    </tr>\n",
       "    <tr>\n",
       "      <th>Apamea Particolare della Via colonnata</th>\n",
       "      <td>Apamea</td>\n",
       "      <td>Particolare della Via colonnata</td>\n",
       "      <td>NaN</td>\n",
       "      <td>NaN</td>\n",
       "    </tr>\n",
       "    <tr>\n",
       "      <th>Palmira Teatro romano</th>\n",
       "      <td>Palmira</td>\n",
       "      <td>Teatro romano</td>\n",
       "      <td>Category:Ancient Roman theater (Palmyra)</td>\n",
       "      <td>NaN</td>\n",
       "    </tr>\n",
       "    <tr>\n",
       "      <th>Palmyra Necropoli delle tombe a torre</th>\n",
       "      <td>Palmyra</td>\n",
       "      <td>Necropoli delle tombe a torre</td>\n",
       "      <td>NaN</td>\n",
       "      <td>NaN</td>\n",
       "    </tr>\n",
       "    <tr>\n",
       "      <th>Kanatha Al Qanawat particolare finestra in pietra locale</th>\n",
       "      <td>Kanatha Al Qanawat</td>\n",
       "      <td>particolare finestra in pietra locale</td>\n",
       "      <td>NaN</td>\n",
       "      <td>NaN</td>\n",
       "    </tr>\n",
       "    <tr>\n",
       "      <th>Palmira Via Colonnata</th>\n",
       "      <td>Palmira</td>\n",
       "      <td>Via Colonnata</td>\n",
       "      <td>NaN</td>\n",
       "      <td>NaN</td>\n",
       "    </tr>\n",
       "    <tr>\n",
       "      <th>Palmira rilievo funerario</th>\n",
       "      <td>Palmira</td>\n",
       "      <td>rilievo funerario</td>\n",
       "      <td>NaN</td>\n",
       "      <td>NaN</td>\n",
       "    </tr>\n",
       "    <tr>\n",
       "      <th>Damasco Chiesa bizantina e tempio di Giove</th>\n",
       "      <td>Damasco</td>\n",
       "      <td>Chiesa bizantina e tempio di Giove</td>\n",
       "      <td>NaN</td>\n",
       "      <td>NaN</td>\n",
       "    </tr>\n",
       "    <tr>\n",
       "      <th>Tell Barri Tell Barri</th>\n",
       "      <td>Tell Barri</td>\n",
       "      <td>Tell Barri</td>\n",
       "      <td>NaN</td>\n",
       "      <td>NaN</td>\n",
       "    </tr>\n",
       "    <tr>\n",
       "      <th>Apamea Via colonnata - particolare di una trabeazione</th>\n",
       "      <td>Apamea</td>\n",
       "      <td>Via colonnata - particolare di una trabeazione</td>\n",
       "      <td>NaN</td>\n",
       "      <td>NaN</td>\n",
       "    </tr>\n",
       "    <tr>\n",
       "      <th>Latakia (Laodicea) Colonnato e travatura del Foro</th>\n",
       "      <td>Latakia (Laodicea)</td>\n",
       "      <td>Colonnato e travatura del Foro</td>\n",
       "      <td>NaN</td>\n",
       "      <td>NaN</td>\n",
       "    </tr>\n",
       "    <tr>\n",
       "      <th>Ugarit Tomba nel cortile di un palazzo</th>\n",
       "      <td>Ugarit</td>\n",
       "      <td>Tomba nel cortile di un palazzo</td>\n",
       "      <td>NaN</td>\n",
       "      <td>NaN</td>\n",
       "    </tr>\n",
       "    <tr>\n",
       "      <th>Deir Mar Musa Santuario di San Mosè l'Abissino - Incontro con Padre Dall'Oglio</th>\n",
       "      <td>Deir Mar Musa</td>\n",
       "      <td>Santuario di San Mosè l'Abissino - Incontro co...</td>\n",
       "      <td>Category:Church of Deir Mar Musa</td>\n",
       "      <td>-</td>\n",
       "    </tr>\n",
       "    <tr>\n",
       "      <th>Aleppo Abside della basilica bizantina di Kharab Shems</th>\n",
       "      <td>Aleppo</td>\n",
       "      <td>Abside della basilica bizantina di Kharab Shems</td>\n",
       "      <td>NaN</td>\n",
       "      <td>NaN</td>\n",
       "    </tr>\n",
       "    <tr>\n",
       "      <th>San Simeone Basilica</th>\n",
       "      <td>San Simeone</td>\n",
       "      <td>Basilica</td>\n",
       "      <td>NaN</td>\n",
       "      <td>NaN</td>\n",
       "    </tr>\n",
       "    <tr>\n",
       "      <th>Bosra Grandi terme</th>\n",
       "      <td>Bosra</td>\n",
       "      <td>Grandi terme</td>\n",
       "      <td>NaN</td>\n",
       "      <td>NaN</td>\n",
       "    </tr>\n",
       "    <tr>\n",
       "      <th>Aleppo Resti della basilica bizantina di Kharab Shems</th>\n",
       "      <td>Aleppo</td>\n",
       "      <td>Resti della basilica bizantina di Kharab Shems</td>\n",
       "      <td>NaN</td>\n",
       "      <td>NaN</td>\n",
       "    </tr>\n",
       "    <tr>\n",
       "      <th>Hama Museo Archeologico - Sarcofago tardoantico</th>\n",
       "      <td>Hama</td>\n",
       "      <td>Museo Archeologico - Sarcofago tardoantico</td>\n",
       "      <td>NaN</td>\n",
       "      <td>NaN</td>\n",
       "    </tr>\n",
       "    <tr>\n",
       "      <th>Palmira Tempio di Baal - Architrave con scena di Processione</th>\n",
       "      <td>Palmira</td>\n",
       "      <td>Tempio di Baal - Architrave con scena di Proce...</td>\n",
       "      <td>Category:Temple of Baal in Palmyra</td>\n",
       "      <td>d:Q797481</td>\n",
       "    </tr>\n",
       "    <tr>\n",
       "      <th>Ebla Palazzo meridionale</th>\n",
       "      <td>Ebla</td>\n",
       "      <td>Palazzo meridionale</td>\n",
       "      <td>NaN</td>\n",
       "      <td>NaN</td>\n",
       "    </tr>\n",
       "    <tr>\n",
       "      <th>Maalula Panorama delle grotte di Maalula verso la tagliata di S. Tecla</th>\n",
       "      <td>Maalula</td>\n",
       "      <td>Panorama delle grotte di Maalula verso la tagl...</td>\n",
       "      <td>NaN</td>\n",
       "      <td>NaN</td>\n",
       "    </tr>\n",
       "    <tr>\n",
       "      <th>Damasco Mosaico bizantino</th>\n",
       "      <td>Damasco</td>\n",
       "      <td>Mosaico bizantino</td>\n",
       "      <td>NaN</td>\n",
       "      <td>NaN</td>\n",
       "    </tr>\n",
       "    <tr>\n",
       "      <th>Palmira Qualah ibn Maan_001</th>\n",
       "      <td>Palmira</td>\n",
       "      <td>Qualah ibn Maan_001</td>\n",
       "      <td>NaN</td>\n",
       "      <td>NaN</td>\n",
       "    </tr>\n",
       "    <tr>\n",
       "      <th>Aleppo Corte interna della moschea</th>\n",
       "      <td>Aleppo</td>\n",
       "      <td>Corte interna della moschea</td>\n",
       "      <td>NaN</td>\n",
       "      <td>NaN</td>\n",
       "    </tr>\n",
       "    <tr>\n",
       "      <th>Qalb Lauzeh Lato sinistro della basilica paleocristiana di Qalb Lauzeh</th>\n",
       "      <td>Qalb Lauzeh</td>\n",
       "      <td>Lato sinistro della basilica paleocristiana di...</td>\n",
       "      <td>NaN</td>\n",
       "      <td>NaN</td>\n",
       "    </tr>\n",
       "    <tr>\n",
       "      <th>Dura Europos Fortificazione</th>\n",
       "      <td>Dura Europos</td>\n",
       "      <td>Fortificazione</td>\n",
       "      <td>NaN</td>\n",
       "      <td>NaN</td>\n",
       "    </tr>\n",
       "    <tr>\n",
       "      <th>Palmira Tomba a torre</th>\n",
       "      <td>Palmira</td>\n",
       "      <td>Tomba a torre</td>\n",
       "      <td>NaN</td>\n",
       "      <td>NaN</td>\n",
       "    </tr>\n",
       "    <tr>\n",
       "      <th>Mushennef Tempio romano del I secolo a.C.</th>\n",
       "      <td>Mushennef</td>\n",
       "      <td>Tempio romano del I secolo a.C.</td>\n",
       "      <td>NaN</td>\n",
       "      <td>NaN</td>\n",
       "    </tr>\n",
       "    <tr>\n",
       "      <th>Philippopolis Mosaico romano</th>\n",
       "      <td>Philippopolis</td>\n",
       "      <td>Mosaico romano</td>\n",
       "      <td>NaN</td>\n",
       "      <td>NaN</td>\n",
       "    </tr>\n",
       "  </tbody>\n",
       "</table>\n",
       "<p>265 rows × 4 columns</p>\n",
       "</div>"
      ],
      "text/plain": [
       "                                                                     Luogo  \\\n",
       "Specific place                                                               \n",
       "Aleppo Cittadella                                                   Aleppo   \n",
       "Palmira Tempio di Baal                                             Palmira   \n",
       "Aleppo Suq                                                          Aleppo   \n",
       "Qasr al-Hayr al-Sharqi Palazzo Omayyade             Qasr al-Hayr al-Sharqi   \n",
       "Yabroud Necropoli di Yabroud                                       Yabroud   \n",
       "Sergiopolis Cattedrale bizantina                               Sergiopolis   \n",
       "Halabiyah Fortezza                                               Halabiyah   \n",
       "Apamea Tra i bambini del villaggio arabo                            Apamea   \n",
       "Mari Palazzo di Zimri-Lin                                             Mari   \n",
       "Palmyra Interno dell'Ipogeo di Artaban                             Palmyra   \n",
       "Hama Centro Storico di Hama - particolare                             Hama   \n",
       "Burjikeh rovine bizantine                                         Burjikeh   \n",
       "Darkita rovine bizantine                                           Darkita   \n",
       "Hama Noria                                                            Hama   \n",
       "Palmyra Interno di una tomba a torre                               Palmyra   \n",
       "Tell Barry scavi                                                Tell Barry   \n",
       "Tartus Resti del centro medievale                                   Tartus   \n",
       "Jebl Zawiya Torre posizionata accanto a una gra...             Jebl Zawiya   \n",
       "Aleppo Quartieri di Aleppo                                          Aleppo   \n",
       "Al Quanawat Caseggiato romano                                  Al Quanawat   \n",
       "Apamea Particolare delle sale espositive del Museo                  Apamea   \n",
       "Apamea Via colonnata                                                Apamea   \n",
       "Cyrrus Teatro romano                                                Cyrrus   \n",
       "Palmyra Arco di Trionfo                                            Palmyra   \n",
       "Aleppo Museo                                                        Aleppo   \n",
       "Aleppo Moschea Omayyadi                                             Aleppo   \n",
       "Dura Europos Cittadella fortificazione sull'Efrate            Dura Europos   \n",
       "Bosra Teatro romano                                                  Bosra   \n",
       "Palmira Fakhr-al-Din al-Maani                                      Palmira   \n",
       "Ebla Palazzo G                                                        Ebla   \n",
       "...                                                                    ...   \n",
       "Palmira Tempio della dea Allat/Atena                               Palmira   \n",
       "Hama Particolare di una Noria                                         Hama   \n",
       "Apamea Particolare della Via colonnata                              Apamea   \n",
       "Palmira Teatro romano                                              Palmira   \n",
       "Palmyra Necropoli delle tombe a torre                              Palmyra   \n",
       "Kanatha Al Qanawat particolare finestra in piet...      Kanatha Al Qanawat   \n",
       "Palmira Via Colonnata                                              Palmira   \n",
       "Palmira rilievo funerario                                          Palmira   \n",
       "Damasco Chiesa bizantina e tempio di Giove                         Damasco   \n",
       "Tell Barri Tell Barri                                           Tell Barri   \n",
       "Apamea Via colonnata - particolare di una trabe...                  Apamea   \n",
       "Latakia (Laodicea) Colonnato e travatura del Foro       Latakia (Laodicea)   \n",
       "Ugarit Tomba nel cortile di un palazzo                              Ugarit   \n",
       "Deir Mar Musa Santuario di San Mosè l'Abissino ...           Deir Mar Musa   \n",
       "Aleppo Abside della basilica bizantina di Khara...                  Aleppo   \n",
       "San Simeone Basilica                                           San Simeone   \n",
       "Bosra Grandi terme                                                   Bosra   \n",
       "Aleppo Resti della basilica bizantina di Kharab...                  Aleppo   \n",
       "Hama Museo Archeologico - Sarcofago tardoantico                       Hama   \n",
       "Palmira Tempio di Baal - Architrave con scena d...                 Palmira   \n",
       "Ebla Palazzo meridionale                                              Ebla   \n",
       "Maalula Panorama delle grotte di Maalula verso ...                 Maalula   \n",
       "Damasco Mosaico bizantino                                          Damasco   \n",
       "Palmira Qualah ibn Maan_001                                        Palmira   \n",
       "Aleppo Corte interna della moschea                                  Aleppo   \n",
       "Qalb Lauzeh Lato sinistro della basilica paleoc...             Qalb Lauzeh   \n",
       "Dura Europos Fortificazione                                   Dura Europos   \n",
       "Palmira Tomba a torre                                              Palmira   \n",
       "Mushennef Tempio romano del I secolo a.C.                        Mushennef   \n",
       "Philippopolis Mosaico romano                                 Philippopolis   \n",
       "\n",
       "                                                                                       Nome monumento  \\\n",
       "Specific place                                                                                          \n",
       "Aleppo Cittadella                                                                          Cittadella   \n",
       "Palmira Tempio di Baal                                                                 Tempio di Baal   \n",
       "Aleppo Suq                                                                                        Suq   \n",
       "Qasr al-Hayr al-Sharqi Palazzo Omayyade                                              Palazzo Omayyade   \n",
       "Yabroud Necropoli di Yabroud                                                     Necropoli di Yabroud   \n",
       "Sergiopolis Cattedrale bizantina                                                 Cattedrale bizantina   \n",
       "Halabiyah Fortezza                                                                           Fortezza   \n",
       "Apamea Tra i bambini del villaggio arabo                            Tra i bambini del villaggio arabo   \n",
       "Mari Palazzo di Zimri-Lin                                                        Palazzo di Zimri-Lin   \n",
       "Palmyra Interno dell'Ipogeo di Artaban                                 Interno dell'Ipogeo di Artaban   \n",
       "Hama Centro Storico di Hama - particolare                        Centro Storico di Hama - particolare   \n",
       "Burjikeh rovine bizantine                                                            rovine bizantine   \n",
       "Darkita rovine bizantine                                                             rovine bizantine   \n",
       "Hama Noria                                                                                      Noria   \n",
       "Palmyra Interno di una tomba a torre                                     Interno di una tomba a torre   \n",
       "Tell Barry scavi                                                                                scavi   \n",
       "Tartus Resti del centro medievale                                          Resti del centro medievale   \n",
       "Jebl Zawiya Torre posizionata accanto a una gra...       Torre posizionata accanto a una grande villa   \n",
       "Aleppo Quartieri di Aleppo                                                        Quartieri di Aleppo   \n",
       "Al Quanawat Caseggiato romano                                                       Caseggiato romano   \n",
       "Apamea Particolare delle sale espositive del Museo        Particolare delle sale espositive del Museo   \n",
       "Apamea Via colonnata                                                                    Via colonnata   \n",
       "Cyrrus Teatro romano                                                                    Teatro romano   \n",
       "Palmyra Arco di Trionfo                                                               Arco di Trionfo   \n",
       "Aleppo Museo                                                                                    Museo   \n",
       "Aleppo Moschea Omayyadi                                                              Moschea Omayyadi   \n",
       "Dura Europos Cittadella fortificazione sull'Efrate              Cittadella fortificazione sull'Efrate   \n",
       "Bosra Teatro romano                                                                     Teatro romano   \n",
       "Palmira Fakhr-al-Din al-Maani                                                   Fakhr-al-Din al-Maani   \n",
       "Ebla Palazzo G                                                                              Palazzo G   \n",
       "...                                                                                               ...   \n",
       "Palmira Tempio della dea Allat/Atena                                     Tempio della dea Allat/Atena   \n",
       "Hama Particolare di una Noria                                                Particolare di una Noria   \n",
       "Apamea Particolare della Via colonnata                                Particolare della Via colonnata   \n",
       "Palmira Teatro romano                                                                   Teatro romano   \n",
       "Palmyra Necropoli delle tombe a torre                                   Necropoli delle tombe a torre   \n",
       "Kanatha Al Qanawat particolare finestra in piet...              particolare finestra in pietra locale   \n",
       "Palmira Via Colonnata                                                                   Via Colonnata   \n",
       "Palmira rilievo funerario                                                           rilievo funerario   \n",
       "Damasco Chiesa bizantina e tempio di Giove                         Chiesa bizantina e tempio di Giove   \n",
       "Tell Barri Tell Barri                                                                      Tell Barri   \n",
       "Apamea Via colonnata - particolare di una trabe...     Via colonnata - particolare di una trabeazione   \n",
       "Latakia (Laodicea) Colonnato e travatura del Foro                      Colonnato e travatura del Foro   \n",
       "Ugarit Tomba nel cortile di un palazzo                                Tomba nel cortile di un palazzo   \n",
       "Deir Mar Musa Santuario di San Mosè l'Abissino ...  Santuario di San Mosè l'Abissino - Incontro co...   \n",
       "Aleppo Abside della basilica bizantina di Khara...    Abside della basilica bizantina di Kharab Shems   \n",
       "San Simeone Basilica                                                                         Basilica   \n",
       "Bosra Grandi terme                                                                       Grandi terme   \n",
       "Aleppo Resti della basilica bizantina di Kharab...     Resti della basilica bizantina di Kharab Shems   \n",
       "Hama Museo Archeologico - Sarcofago tardoantico            Museo Archeologico - Sarcofago tardoantico   \n",
       "Palmira Tempio di Baal - Architrave con scena d...  Tempio di Baal - Architrave con scena di Proce...   \n",
       "Ebla Palazzo meridionale                                                          Palazzo meridionale   \n",
       "Maalula Panorama delle grotte di Maalula verso ...  Panorama delle grotte di Maalula verso la tagl...   \n",
       "Damasco Mosaico bizantino                                                           Mosaico bizantino   \n",
       "Palmira Qualah ibn Maan_001                                                       Qualah ibn Maan_001   \n",
       "Aleppo Corte interna della moschea                                        Corte interna della moschea   \n",
       "Qalb Lauzeh Lato sinistro della basilica paleoc...  Lato sinistro della basilica paleocristiana di...   \n",
       "Dura Europos Fortificazione                                                            Fortificazione   \n",
       "Palmira Tomba a torre                                                                   Tomba a torre   \n",
       "Mushennef Tempio romano del I secolo a.C.                             Tempio romano del I secolo a.C.   \n",
       "Philippopolis Mosaico romano                                                           Mosaico romano   \n",
       "\n",
       "                                                                                    category  \\\n",
       "Specific place                                                                                 \n",
       "Aleppo Cittadella                                                    Category:Aleppo citadel   \n",
       "Palmira Tempio di Baal                                    Category:Temple of Baal in Palmyra   \n",
       "Aleppo Suq                                                                   Category:Aleppo   \n",
       "Qasr al-Hayr al-Sharqi Palazzo Omayyade                                                  NaN   \n",
       "Yabroud Necropoli di Yabroud                                                             NaN   \n",
       "Sergiopolis Cattedrale bizantina                                                         NaN   \n",
       "Halabiyah Fortezza                                                                       NaN   \n",
       "Apamea Tra i bambini del villaggio arabo                                                 NaN   \n",
       "Mari Palazzo di Zimri-Lin                                                                NaN   \n",
       "Palmyra Interno dell'Ipogeo di Artaban                                                   NaN   \n",
       "Hama Centro Storico di Hama - particolare                                                NaN   \n",
       "Burjikeh rovine bizantine                                                                NaN   \n",
       "Darkita rovine bizantine                                                                 NaN   \n",
       "Hama Noria                                                                               NaN   \n",
       "Palmyra Interno di una tomba a torre                                                     NaN   \n",
       "Tell Barry scavi                                                                         NaN   \n",
       "Tartus Resti del centro medievale                                                        NaN   \n",
       "Jebl Zawiya Torre posizionata accanto a una gra...                                       NaN   \n",
       "Aleppo Quartieri di Aleppo                                                               NaN   \n",
       "Al Quanawat Caseggiato romano                                                            NaN   \n",
       "Apamea Particolare delle sale espositive del Museo                                       NaN   \n",
       "Apamea Via colonnata                                                                     NaN   \n",
       "Cyrrus Teatro romano                                                                     NaN   \n",
       "Palmyra Arco di Trionfo                                                                  NaN   \n",
       "Aleppo Museo                                                                             NaN   \n",
       "Aleppo Moschea Omayyadi                                                                  NaN   \n",
       "Dura Europos Cittadella fortificazione sull'Efrate                                       NaN   \n",
       "Bosra Teatro romano                                                                      NaN   \n",
       "Palmira Fakhr-al-Din al-Maani                                                            NaN   \n",
       "Ebla Palazzo G                                                                           NaN   \n",
       "...                                                                                      ...   \n",
       "Palmira Tempio della dea Allat/Atena                                                     NaN   \n",
       "Hama Particolare di una Noria                                                            NaN   \n",
       "Apamea Particolare della Via colonnata                                                   NaN   \n",
       "Palmira Teatro romano                               Category:Ancient Roman theater (Palmyra)   \n",
       "Palmyra Necropoli delle tombe a torre                                                    NaN   \n",
       "Kanatha Al Qanawat particolare finestra in piet...                                       NaN   \n",
       "Palmira Via Colonnata                                                                    NaN   \n",
       "Palmira rilievo funerario                                                                NaN   \n",
       "Damasco Chiesa bizantina e tempio di Giove                                               NaN   \n",
       "Tell Barri Tell Barri                                                                    NaN   \n",
       "Apamea Via colonnata - particolare di una trabe...                                       NaN   \n",
       "Latakia (Laodicea) Colonnato e travatura del Foro                                        NaN   \n",
       "Ugarit Tomba nel cortile di un palazzo                                                   NaN   \n",
       "Deir Mar Musa Santuario di San Mosè l'Abissino ...          Category:Church of Deir Mar Musa   \n",
       "Aleppo Abside della basilica bizantina di Khara...                                       NaN   \n",
       "San Simeone Basilica                                                                     NaN   \n",
       "Bosra Grandi terme                                                                       NaN   \n",
       "Aleppo Resti della basilica bizantina di Kharab...                                       NaN   \n",
       "Hama Museo Archeologico - Sarcofago tardoantico                                          NaN   \n",
       "Palmira Tempio di Baal - Architrave con scena d...        Category:Temple of Baal in Palmyra   \n",
       "Ebla Palazzo meridionale                                                                 NaN   \n",
       "Maalula Panorama delle grotte di Maalula verso ...                                       NaN   \n",
       "Damasco Mosaico bizantino                                                                NaN   \n",
       "Palmira Qualah ibn Maan_001                                                              NaN   \n",
       "Aleppo Corte interna della moschea                                                       NaN   \n",
       "Qalb Lauzeh Lato sinistro della basilica paleoc...                                       NaN   \n",
       "Dura Europos Fortificazione                                                              NaN   \n",
       "Palmira Tomba a torre                                                                    NaN   \n",
       "Mushennef Tempio romano del I secolo a.C.                                                NaN   \n",
       "Philippopolis Mosaico romano                                                             NaN   \n",
       "\n",
       "                                                     wikidata  \n",
       "Specific place                                                 \n",
       "Aleppo Cittadella                                   d:Q206231  \n",
       "Palmira Tempio di Baal                              d:Q797481  \n",
       "Aleppo Suq                                                NaN  \n",
       "Qasr al-Hayr al-Sharqi Palazzo Omayyade                   NaN  \n",
       "Yabroud Necropoli di Yabroud                              NaN  \n",
       "Sergiopolis Cattedrale bizantina                          NaN  \n",
       "Halabiyah Fortezza                                        NaN  \n",
       "Apamea Tra i bambini del villaggio arabo                  NaN  \n",
       "Mari Palazzo di Zimri-Lin                                 NaN  \n",
       "Palmyra Interno dell'Ipogeo di Artaban                    NaN  \n",
       "Hama Centro Storico di Hama - particolare                 NaN  \n",
       "Burjikeh rovine bizantine                                 NaN  \n",
       "Darkita rovine bizantine                                  NaN  \n",
       "Hama Noria                                                NaN  \n",
       "Palmyra Interno di una tomba a torre                      NaN  \n",
       "Tell Barry scavi                                          NaN  \n",
       "Tartus Resti del centro medievale                         NaN  \n",
       "Jebl Zawiya Torre posizionata accanto a una gra...        NaN  \n",
       "Aleppo Quartieri di Aleppo                                NaN  \n",
       "Al Quanawat Caseggiato romano                             NaN  \n",
       "Apamea Particolare delle sale espositive del Museo        NaN  \n",
       "Apamea Via colonnata                                      NaN  \n",
       "Cyrrus Teatro romano                                      NaN  \n",
       "Palmyra Arco di Trionfo                                   NaN  \n",
       "Aleppo Museo                                              NaN  \n",
       "Aleppo Moschea Omayyadi                                   NaN  \n",
       "Dura Europos Cittadella fortificazione sull'Efrate        NaN  \n",
       "Bosra Teatro romano                                       NaN  \n",
       "Palmira Fakhr-al-Din al-Maani                             NaN  \n",
       "Ebla Palazzo G                                            NaN  \n",
       "...                                                       ...  \n",
       "Palmira Tempio della dea Allat/Atena                      NaN  \n",
       "Hama Particolare di una Noria                             NaN  \n",
       "Apamea Particolare della Via colonnata                    NaN  \n",
       "Palmira Teatro romano                                     NaN  \n",
       "Palmyra Necropoli delle tombe a torre                     NaN  \n",
       "Kanatha Al Qanawat particolare finestra in piet...        NaN  \n",
       "Palmira Via Colonnata                                     NaN  \n",
       "Palmira rilievo funerario                                 NaN  \n",
       "Damasco Chiesa bizantina e tempio di Giove                NaN  \n",
       "Tell Barri Tell Barri                                     NaN  \n",
       "Apamea Via colonnata - particolare di una trabe...        NaN  \n",
       "Latakia (Laodicea) Colonnato e travatura del Foro         NaN  \n",
       "Ugarit Tomba nel cortile di un palazzo                    NaN  \n",
       "Deir Mar Musa Santuario di San Mosè l'Abissino ...          -  \n",
       "Aleppo Abside della basilica bizantina di Khara...        NaN  \n",
       "San Simeone Basilica                                      NaN  \n",
       "Bosra Grandi terme                                        NaN  \n",
       "Aleppo Resti della basilica bizantina di Kharab...        NaN  \n",
       "Hama Museo Archeologico - Sarcofago tardoantico           NaN  \n",
       "Palmira Tempio di Baal - Architrave con scena d...  d:Q797481  \n",
       "Ebla Palazzo meridionale                                  NaN  \n",
       "Maalula Panorama delle grotte di Maalula verso ...        NaN  \n",
       "Damasco Mosaico bizantino                                 NaN  \n",
       "Palmira Qualah ibn Maan_001                               NaN  \n",
       "Aleppo Corte interna della moschea                        NaN  \n",
       "Qalb Lauzeh Lato sinistro della basilica paleoc...        NaN  \n",
       "Dura Europos Fortificazione                               NaN  \n",
       "Palmira Tomba a torre                                     NaN  \n",
       "Mushennef Tempio romano del I secolo a.C.                 NaN  \n",
       "Philippopolis Mosaico romano                              NaN  \n",
       "\n",
       "[265 rows x 4 columns]"
      ]
     },
     "execution_count": 15,
     "metadata": {},
     "output_type": "execute_result"
    }
   ],
   "source": [
    "place_mappings_specific"
   ]
  },
  {
   "cell_type": "code",
   "execution_count": null,
   "metadata": {
    "collapsed": true
   },
   "outputs": [],
   "source": []
  }
 ],
 "metadata": {
  "anaconda-cloud": {},
  "hide_input": false,
  "kernelspec": {
   "display_name": "Python 3",
   "language": "python",
   "name": "python3"
  },
  "language_info": {
   "codemirror_mode": {
    "name": "ipython",
    "version": 3
   },
   "file_extension": ".py",
   "mimetype": "text/x-python",
   "name": "python",
   "nbconvert_exporter": "python",
   "pygments_lexer": "ipython3",
   "version": "3.5.2"
  },
  "nbpresent": {
   "slides": {
    "0901f2e4-c773-4909-adae-b82e53c29f31": {
     "id": "0901f2e4-c773-4909-adae-b82e53c29f31",
     "prev": "e4f1b63d-5170-4941-8547-d951040d85c4",
     "regions": {
      "2b12a865-feb3-4799-b847-8ab136047e21": {
       "attrs": {
        "height": 0.8,
        "width": 0.8,
        "x": 0.1,
        "y": 0.1
       },
       "content": {
        "cell": "2954be0c-0f18-4e9f-8a13-94de750b4714",
        "part": "whole"
       },
       "id": "2b12a865-feb3-4799-b847-8ab136047e21"
      }
     }
    },
    "1361a6f5-a8f4-4022-81dd-cbb3081e964a": {
     "id": "1361a6f5-a8f4-4022-81dd-cbb3081e964a",
     "prev": "65d49403-5a2b-4cee-9875-643b13bb0168",
     "regions": {
      "836f990c-5a73-4464-a0a8-07ce478da421": {
       "attrs": {
        "height": 0.8,
        "width": 0.8,
        "x": 0.1,
        "y": 0.1
       },
       "content": {
        "cell": "052d037e-a759-4440-9f5f-f0ef323a99ff",
        "part": "whole"
       },
       "id": "836f990c-5a73-4464-a0a8-07ce478da421"
      }
     }
    },
    "1cca2eba-65f3-4906-b60d-6bd9df9ecdec": {
     "id": "1cca2eba-65f3-4906-b60d-6bd9df9ecdec",
     "prev": null,
     "regions": {
      "fd881fcd-382e-4b18-a355-a6e1a7dd491f": {
       "attrs": {
        "height": 0.8,
        "width": 0.8,
        "x": 0.1,
        "y": 0.1
       },
       "content": {
        "cell": "a97ff06c-9f13-4e09-9906-5c427bbf9ed9",
        "part": "whole"
       },
       "id": "fd881fcd-382e-4b18-a355-a6e1a7dd491f"
      }
     }
    },
    "1fb03836-dddb-4571-8f40-2f0c84b91d2c": {
     "id": "1fb03836-dddb-4571-8f40-2f0c84b91d2c",
     "prev": "54d3f504-1c3e-4acc-98e6-953c8a4d92cb",
     "regions": {
      "9b462c00-9395-43d7-b0e7-a9264f180be8": {
       "attrs": {
        "height": 0.8,
        "width": 0.8,
        "x": 0.1,
        "y": 0.1
       },
       "content": {
        "cell": "a06f0517-6e82-46bd-8a1b-ba449f753988",
        "part": "whole"
       },
       "id": "9b462c00-9395-43d7-b0e7-a9264f180be8"
      }
     }
    },
    "2a772e10-781d-41d2-9a57-f9730ff37a6e": {
     "id": "2a772e10-781d-41d2-9a57-f9730ff37a6e",
     "prev": "1cca2eba-65f3-4906-b60d-6bd9df9ecdec",
     "regions": {}
    },
    "54d3f504-1c3e-4acc-98e6-953c8a4d92cb": {
     "id": "54d3f504-1c3e-4acc-98e6-953c8a4d92cb",
     "prev": "6908b1c4-638f-444e-b0e8-286d459a0828",
     "regions": {
      "aaa2b439-3da2-40f8-8d51-e3f05bea92e0": {
       "attrs": {
        "height": 0.8,
        "width": 0.8,
        "x": 0.1,
        "y": 0.1
       },
       "content": {
        "cell": "3f2afa3a-1feb-4411-873c-fc69dfe3d906",
        "part": "whole"
       },
       "id": "aaa2b439-3da2-40f8-8d51-e3f05bea92e0"
      }
     }
    },
    "65d49403-5a2b-4cee-9875-643b13bb0168": {
     "id": "65d49403-5a2b-4cee-9875-643b13bb0168",
     "prev": "663bbbd8-07f3-494b-b28b-1b2ab95fa1df",
     "regions": {
      "44adc21a-619b-4d29-8347-3ba6b2b3571a": {
       "attrs": {
        "height": 0.8,
        "width": 0.8,
        "x": 0.1,
        "y": 0.1
       },
       "content": {
        "cell": "ece894ad-972b-4ce4-8dd8-916f67026fa4",
        "part": "whole"
       },
       "id": "44adc21a-619b-4d29-8347-3ba6b2b3571a"
      }
     }
    },
    "663bbbd8-07f3-494b-b28b-1b2ab95fa1df": {
     "id": "663bbbd8-07f3-494b-b28b-1b2ab95fa1df",
     "prev": "9a84fb33-d3e6-4a85-8758-29767a8d1704",
     "regions": {
      "c752dee4-0751-459d-8114-32e32147dc6d": {
       "attrs": {
        "height": 0.8,
        "width": 0.8,
        "x": 0.1,
        "y": 0.1
       },
       "content": {
        "cell": "309e09c7-d931-4b87-b03d-57c9e1e3617f",
        "part": "whole"
       },
       "id": "c752dee4-0751-459d-8114-32e32147dc6d"
      }
     }
    },
    "6908b1c4-638f-444e-b0e8-286d459a0828": {
     "id": "6908b1c4-638f-444e-b0e8-286d459a0828",
     "prev": "7e9fd61c-23bc-4d54-800a-f8ec267d7008",
     "regions": {
      "ce8b8cd8-2024-44fa-83bf-b77a3df3fa6b": {
       "attrs": {
        "height": 0.8,
        "width": 0.8,
        "x": 0.1,
        "y": 0.1
       },
       "content": {
        "cell": "d31e315c-98a0-46c7-a7b5-01bc7c48b6cd",
        "part": "whole"
       },
       "id": "ce8b8cd8-2024-44fa-83bf-b77a3df3fa6b"
      }
     }
    },
    "733f634b-3287-4f33-8adc-e290b3f19161": {
     "id": "733f634b-3287-4f33-8adc-e290b3f19161",
     "prev": "ae3228b7-45cc-447a-8be7-bc7794f3b60e",
     "regions": {
      "9c182d83-18e4-4e95-be65-3a56e665c5d9": {
       "attrs": {
        "height": 0.8,
        "width": 0.8,
        "x": 0.1,
        "y": 0.1
       },
       "content": {
        "cell": "ed7214d6-c3c4-4e94-885b-af3fe0700199",
        "part": "whole"
       },
       "id": "9c182d83-18e4-4e95-be65-3a56e665c5d9"
      }
     }
    },
    "7a09a143-750f-4e83-a665-83f73b8b7a66": {
     "id": "7a09a143-750f-4e83-a665-83f73b8b7a66",
     "prev": "b3dd8e72-3116-487f-97bd-05bf19c58df4",
     "regions": {
      "08a396de-0302-4fce-91a1-52518e78dbce": {
       "attrs": {
        "height": 0.8,
        "width": 0.8,
        "x": 0.1,
        "y": 0.1
       },
       "content": {
        "cell": "6c99fc00-d9a7-4d45-92a3-fd14877885ae",
        "part": "whole"
       },
       "id": "08a396de-0302-4fce-91a1-52518e78dbce"
      }
     }
    },
    "7e9fd61c-23bc-4d54-800a-f8ec267d7008": {
     "id": "7e9fd61c-23bc-4d54-800a-f8ec267d7008",
     "prev": "0901f2e4-c773-4909-adae-b82e53c29f31",
     "regions": {
      "f50b771a-cb0a-4047-841c-6214b0827032": {
       "attrs": {
        "height": 0.8,
        "width": 0.8,
        "x": 0.1,
        "y": 0.1
       },
       "content": {
        "cell": "c6f32ee1-efec-4c5d-97a3-70bfec031060",
        "part": "whole"
       },
       "id": "f50b771a-cb0a-4047-841c-6214b0827032"
      }
     }
    },
    "9a84fb33-d3e6-4a85-8758-29767a8d1704": {
     "id": "9a84fb33-d3e6-4a85-8758-29767a8d1704",
     "prev": "fabb43f5-92f0-4b4f-99d5-a930b138656a",
     "regions": {
      "74a2d8e9-868a-4749-bd9a-f4cee8c4f1f9": {
       "attrs": {
        "height": 0.8,
        "width": 0.8,
        "x": 0.1,
        "y": 0.1
       },
       "content": {
        "cell": "f4a04a64-8bc9-41dd-9d31-09d3aa1c0315",
        "part": "whole"
       },
       "id": "74a2d8e9-868a-4749-bd9a-f4cee8c4f1f9"
      }
     }
    },
    "9f99d3b7-ea3e-46bc-b5db-33072ced8e0e": {
     "id": "9f99d3b7-ea3e-46bc-b5db-33072ced8e0e",
     "prev": "1fb03836-dddb-4571-8f40-2f0c84b91d2c",
     "regions": {
      "3e7be207-1ce7-44d5-a71a-72058c2930d4": {
       "attrs": {
        "height": 0.8,
        "width": 0.8,
        "x": 0.1,
        "y": 0.1
       },
       "content": {
        "cell": "9a74f27c-f47c-42df-af6d-eb91255d342e",
        "part": "whole"
       },
       "id": "3e7be207-1ce7-44d5-a71a-72058c2930d4"
      }
     }
    },
    "abeb2d43-822d-4a8f-a3bd-5713b1c2cd39": {
     "id": "abeb2d43-822d-4a8f-a3bd-5713b1c2cd39",
     "prev": "e7a11b75-7e6f-42b7-bc0e-b158a318e6c4",
     "regions": {
      "3feaf9ea-56fa-4c1f-ba8d-c98de392ffc7": {
       "attrs": {
        "height": 0.8,
        "width": 0.8,
        "x": 0.1,
        "y": 0.1
       },
       "content": {
        "cell": "eca543a0-06c8-4032-bf21-2c1ef0627b40",
        "part": "whole"
       },
       "id": "3feaf9ea-56fa-4c1f-ba8d-c98de392ffc7"
      }
     }
    },
    "ad442b55-6803-4486-9ec6-f63d952c31a6": {
     "id": "ad442b55-6803-4486-9ec6-f63d952c31a6",
     "prev": "2a772e10-781d-41d2-9a57-f9730ff37a6e",
     "regions": {
      "43dcf57c-46b1-4608-b6fd-0b855179138e": {
       "attrs": {
        "height": 0.8,
        "width": 0.8,
        "x": 0.1,
        "y": 0.1
       },
       "content": {
        "cell": "8c4677f9-fc98-4410-a9d9-9e3fb02b696d",
        "part": "source"
       },
       "id": "43dcf57c-46b1-4608-b6fd-0b855179138e"
      }
     }
    },
    "ae3228b7-45cc-447a-8be7-bc7794f3b60e": {
     "id": "ae3228b7-45cc-447a-8be7-bc7794f3b60e",
     "prev": "f97e286e-2bd7-489c-8961-3631d5e6cc8d",
     "regions": {
      "2e800bb0-d676-4da5-bb9c-d405d6f36b36": {
       "attrs": {
        "height": 0.8,
        "width": 0.8,
        "x": 0.1,
        "y": 0.1
       },
       "content": {
        "cell": "1b0e9f77-27b9-403e-b72f-180298de7462",
        "part": "whole"
       },
       "id": "2e800bb0-d676-4da5-bb9c-d405d6f36b36"
      }
     }
    },
    "b3dd8e72-3116-487f-97bd-05bf19c58df4": {
     "id": "b3dd8e72-3116-487f-97bd-05bf19c58df4",
     "prev": "ad442b55-6803-4486-9ec6-f63d952c31a6",
     "regions": {
      "330a8615-47fa-431d-b904-2b965936353b": {
       "attrs": {
        "height": 0.8,
        "width": 0.8,
        "x": 0.1,
        "y": 0.1
       },
       "content": {
        "cell": "65a0dddd-8653-40dc-872f-eec1555ba29e",
        "part": "whole"
       },
       "id": "330a8615-47fa-431d-b904-2b965936353b"
      }
     }
    },
    "e4f1b63d-5170-4941-8547-d951040d85c4": {
     "id": "e4f1b63d-5170-4941-8547-d951040d85c4",
     "prev": "733f634b-3287-4f33-8adc-e290b3f19161",
     "regions": {
      "8222e371-3866-4098-86e2-e4208ff6e0e3": {
       "attrs": {
        "height": 0.8,
        "width": 0.8,
        "x": 0.1,
        "y": 0.1
       },
       "content": {
        "cell": "b17ac894-1eea-41f8-859a-a0e4974a5af8",
        "part": "whole"
       },
       "id": "8222e371-3866-4098-86e2-e4208ff6e0e3"
      }
     }
    },
    "e7a11b75-7e6f-42b7-bc0e-b158a318e6c4": {
     "id": "e7a11b75-7e6f-42b7-bc0e-b158a318e6c4",
     "prev": "1361a6f5-a8f4-4022-81dd-cbb3081e964a",
     "regions": {
      "316d1669-1f35-446d-8817-1c849662fb3f": {
       "attrs": {
        "height": 0.8,
        "width": 0.8,
        "x": 0.1,
        "y": 0.1
       },
       "content": {
        "cell": "e42f8713-e788-4441-92e6-366534e6d2e0",
        "part": "whole"
       },
       "id": "316d1669-1f35-446d-8817-1c849662fb3f"
      }
     }
    },
    "f3ba254d-fde3-42ee-b67c-d7bcdfeb3bb7": {
     "id": "f3ba254d-fde3-42ee-b67c-d7bcdfeb3bb7",
     "prev": "7a09a143-750f-4e83-a665-83f73b8b7a66",
     "regions": {
      "3fb9e2af-0dce-437d-8517-972e3956c647": {
       "attrs": {
        "height": 0.8,
        "width": 0.8,
        "x": 0.1,
        "y": 0.1
       },
       "content": {
        "cell": "d287d7d1-e53f-4b5b-8346-dcc13dfc144e",
        "part": "whole"
       },
       "id": "3fb9e2af-0dce-437d-8517-972e3956c647"
      }
     }
    },
    "f97e286e-2bd7-489c-8961-3631d5e6cc8d": {
     "id": "f97e286e-2bd7-489c-8961-3631d5e6cc8d",
     "prev": "f3ba254d-fde3-42ee-b67c-d7bcdfeb3bb7",
     "regions": {
      "b9d5683a-eee1-4652-af70-038300e8b6e5": {
       "attrs": {
        "height": 0.8,
        "width": 0.8,
        "x": 0.1,
        "y": 0.1
       },
       "content": {
        "cell": "3769fd33-b858-4ca8-8eb6-81e00e394642",
        "part": "whole"
       },
       "id": "b9d5683a-eee1-4652-af70-038300e8b6e5"
      }
     }
    },
    "fabb43f5-92f0-4b4f-99d5-a930b138656a": {
     "id": "fabb43f5-92f0-4b4f-99d5-a930b138656a",
     "prev": "9f99d3b7-ea3e-46bc-b5db-33072ced8e0e",
     "regions": {
      "969b34f2-e54c-4efd-bc2a-36e43e18ef34": {
       "attrs": {
        "height": 0.8,
        "width": 0.8,
        "x": 0.1,
        "y": 0.1
       },
       "content": {
        "cell": "706e4935-8aec-4ac4-adfd-1f7456fe4b39",
        "part": "whole"
       },
       "id": "969b34f2-e54c-4efd-bc2a-36e43e18ef34"
      }
     }
    }
   },
   "themes": {
    "default": "dd32933a-c1db-463a-8321-c2438e70f10e",
    "theme": {}
   }
  }
 },
 "nbformat": 4,
 "nbformat_minor": 0
}
